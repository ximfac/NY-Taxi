{
 "cells": [
  {
   "cell_type": "code",
   "execution_count": 118,
   "id": "3af94105",
   "metadata": {
    "cellId": "09wdcvts2muhbdgbpvypsw"
   },
   "outputs": [],
   "source": [
    "%matplotlib inline\n",
    "import pandas as pd\n",
    "import numpy as np\n",
    "from scipy import stats\n",
    "import statsmodels.api as sm\n",
    "import matplotlib.pyplot as plt\n",
    "import warnings\n",
    "from sklearn.preprocessing import StandardScaler\n",
    "from sklearn.neighbors import LocalOutlierFactor\n",
    "warnings.filterwarnings('ignore')\n",
    "from itertools import product\n",
    "\n",
    "def invboxcox(y,lmbda):\n",
    "    if lmbda == 0:\n",
    "        return(np.exp(y))\n",
    "    else:\n",
    "        return(np.exp(np.log(lmbda*y+1)/lmbda))\n",
    "data = pd.read_csv('Taxi.4.csv', index_col=0, parse_dates=True)"
   ]
  },
  {
   "cell_type": "code",
   "execution_count": 119,
   "id": "a6328b76",
   "metadata": {
    "cellId": "bc7a21zt9joi5k5127v"
   },
   "outputs": [],
   "source": [
    "for i in range(1, 6):\n",
    "    data[f'w_s{i}']=np.sin(np.arange(1, data.shape[0]+1, 1)*2*np.pi*i/168)\n",
    "    data[f'w_c{i}']=np.cos(np.arange(1, data.shape[0]+1, 1)*2*np.pi*i/168)"
   ]
  },
  {
   "cell_type": "markdown",
   "id": "ad8396ba",
   "metadata": {
    "cellId": "pxg406o2b193xp6z8f2x7k"
   },
   "source": [
    "#### Прогнозы SARIMAX на все часы с 01.01.2016-30.06.2016"
   ]
  },
  {
   "cell_type": "code",
   "execution_count": 120,
   "id": "72c00312",
   "metadata": {
    "cellId": "admx91yd2u96zk8vmrnfvb"
   },
   "outputs": [],
   "source": [
    "E=pd.read_csv('sarima.csv')"
   ]
  },
  {
   "cell_type": "markdown",
   "id": "c22f5442",
   "metadata": {
    "cellId": "syj0muzgxs8zvnz619cnq"
   },
   "source": [
    "## Выборка для t+1"
   ]
  },
  {
   "cell_type": "code",
   "execution_count": 372,
   "id": "e1aa2d8c",
   "metadata": {
    "cellId": "3tqwb2tjbzdf1swho77b2j"
   },
   "outputs": [
    {
     "name": "stderr",
     "output_type": "stream",
     "text": [
      "/usr/local/lib/python3.7/dist-packages/pandas/core/frame.py:4117: SettingWithCopyWarning: \n",
      "A value is trying to be set on a copy of a slice from a DataFrame\n",
      "\n",
      "See the caveats in the documentation: http://pandas.pydata.org/pandas-docs/stable/user_guide/indexing.html#returning-a-view-versus-a-copy\n",
      "  errors=errors,\n"
     ]
    },
    {
     "name": "stdout",
     "output_type": "stream",
     "text": [
      "CPU times: user 1min 49s, sys: 3.03 s, total: 1min 53s\n",
      "Wall time: 1min 58s\n"
     ]
    }
   ],
   "source": [
    "%%time\n",
    "tim=1\n",
    "new_data=pd.DataFrame()\n",
    "for i in data.columns[:-10]:\n",
    "    q=pd.DataFrame(data[i].values, index=data.index, columns=['trips'])\n",
    "    for j in range(1,7):\n",
    "        q[f'trips_-{j}h']=data[i].shift(j)\n",
    "    for l in range(1,3):\n",
    "        q[f'trips_-{l*24}h']=data[i].shift(j)\n",
    "    q['zone']=i\n",
    "    q['day_of_week']=q.index.dayofweek\n",
    "    q['hour']=q.index.hour\n",
    "    sar=E[E.id.str.endswith(f'{tim}') & E.id.str.startswith(i)]\n",
    "    sar.index=pd.to_datetime(sar.id.str.replace(r'\\d{4,}_', '').str.replace(r'_\\d\\b', ''), format='%Y-%m-%d_%H')\n",
    "    sar.drop(columns=['id'], inplace=True)\n",
    "    q['sar']=sar\n",
    "    q['cumsum_12h']=q.trips.rolling('12h').sum()\n",
    "    q['cumsum_24h']=q.trips.rolling('24h').sum()\n",
    "    q['y']=data[i].shift(-1)\n",
    "    new_data=pd.concat([new_data, q])\n",
    "new_data=new_data.sort_index()\n",
    "new_data.dropna(inplace=True)"
   ]
  },
  {
   "cell_type": "code",
   "execution_count": 373,
   "id": "36db65f9",
   "metadata": {
    "cellId": "j5j2w8v0ldjp4zr3qonk"
   },
   "outputs": [],
   "source": [
    "data1=new_data.copy()\n",
    "train_data_1=data1.loc['2016-01-02':'2016-04-30']\n",
    "val_data_1=data1.loc['2016-05-01':'2016-05-31']"
   ]
  },
  {
   "cell_type": "markdown",
   "id": "9621c449",
   "metadata": {
    "cellId": "byvo1068psnwp8l7fy21b"
   },
   "source": [
    "### В качестве регрессора будем использовать CatBoostRegressor"
   ]
  },
  {
   "cell_type": "markdown",
   "id": "e9f77606",
   "metadata": {
    "cellId": "w9gjo9v9rnkxesnkgmnqro"
   },
   "source": [
    "#### Осуществим подбор гиперпараметров по маю 2016 года"
   ]
  },
  {
   "cell_type": "code",
   "execution_count": 123,
   "id": "bb6bbbde",
   "metadata": {
    "cellId": "dmpbrpn8zvmxj2hyctnsj9"
   },
   "outputs": [],
   "source": [
    "from catboost import CatBoostRegressor"
   ]
  },
  {
   "cell_type": "code",
   "execution_count": 124,
   "id": "5d60a5eb",
   "metadata": {
    "cellId": "x9ydj14epiedd5zb5gps"
   },
   "outputs": [],
   "source": [
    "from sklearn.metrics import mean_squared_error"
   ]
  },
  {
   "cell_type": "code",
   "execution_count": 125,
   "id": "017a1129",
   "metadata": {
    "cellId": "d9ffnyh4gldt3x8tij95zh"
   },
   "outputs": [],
   "source": [
    "from hyperopt import fmin, tpe, hp"
   ]
  },
  {
   "cell_type": "code",
   "execution_count": 126,
   "id": "17dd6ea5",
   "metadata": {
    "cellId": "g271f8dkferlbnploqfrbg"
   },
   "outputs": [],
   "source": [
    "#Столбцы с категориальными признаками (зона, день недели, час)\n",
    "cat_features=[9,10,11]"
   ]
  },
  {
   "cell_type": "code",
   "execution_count": 186,
   "id": "538f70f2",
   "metadata": {
    "cellId": "4qjnxtk5j6o41ki4e9ebnt"
   },
   "outputs": [],
   "source": [
    "def reg(params):\n",
    "    cat=CatBoostRegressor(iterations=200, depth=5, **params, silent=True)\n",
    "    cat.fit(train_data_1.drop(columns=['y']), train_data_1.y, cat_features)\n",
    "    preds=cat.predict(val_data_1.drop(columns=['y']))\n",
    "    return mean_squared_error(val_data_1.y, preds)"
   ]
  },
  {
   "cell_type": "code",
   "execution_count": 187,
   "id": "944a3182",
   "metadata": {
    "cellId": "u3opxlvocih7kazi052x8d"
   },
   "outputs": [],
   "source": [
    "space={\n",
    "    'learning_rate':hp.uniform('learning_rate', 0.1, 1)\n",
    "}"
   ]
  },
  {
   "cell_type": "code",
   "execution_count": 189,
   "id": "5925c655",
   "metadata": {
    "cellId": "6xjm9agfa0fpw0a0xcdmd"
   },
   "outputs": [
    {
     "name": "stdout",
     "output_type": "stream",
     "text": [
      "100%|██████████| 30/30 [07:20<00:00, 14.67s/trial, best loss: 1062.4901264828986]\n"
     ]
    }
   ],
   "source": [
    "best=fmin(\n",
    "    reg,\n",
    "    space=space,\n",
    "    algo=tpe.suggest,\n",
    "    max_evals=30)"
   ]
  },
  {
   "cell_type": "code",
   "execution_count": 190,
   "id": "2e826508",
   "metadata": {
    "cellId": "bexinl7heioijniphzpeuk"
   },
   "outputs": [
    {
     "name": "stdout",
     "output_type": "stream",
     "text": [
      "{'learning_rate': 0.4615431237704436}\n"
     ]
    }
   ],
   "source": [
    "print(best)"
   ]
  },
  {
   "cell_type": "markdown",
   "id": "1eb30903",
   "metadata": {
    "cellId": "u3tlet4s0g9bcajkiiwhl"
   },
   "source": [
    "### Посмотри на графике:"
   ]
  },
  {
   "cell_type": "code",
   "execution_count": 195,
   "id": "4f74526b",
   "metadata": {
    "cellId": "v1dkymd40smngj0fz2nmj"
   },
   "outputs": [],
   "source": [
    "mse_train=pd.Series()\n",
    "mse_test=pd.Series()\n",
    "for i in np.linspace(0.1,1,16):\n",
    "    cat=CatBoostRegressor(learning_rate = i, max_depth = 5, iterations = 200, silent=True)\n",
    "    cat.fit(train_data_1.drop(columns=['y']), train_data_1.y, cat_features)\n",
    "    preds_train=cat.predict(train_data_1.drop(columns=['y']))\n",
    "    preds_test=cat.predict(val_data_1.drop(columns=['y']))\n",
    "    mse_train[i]=mean_squared_error(train_data_1.y, preds_train)\n",
    "    mse_test[i]=mean_squared_error(val_data_1.y, preds_test)"
   ]
  },
  {
   "cell_type": "code",
   "execution_count": 196,
   "id": "1fc5eeb9",
   "metadata": {
    "cellId": "rm4zv5wo0vc6omgm1q7rb"
   },
   "outputs": [],
   "source": [
    "MSE=pd.concat([mse_train, mse_test], axis=1)\n",
    "MSE.columns=['train', 'test']"
   ]
  },
  {
   "cell_type": "code",
   "execution_count": 198,
   "id": "2c03d7b1",
   "metadata": {
    "cellId": "v9es7n6i9fru7rrtt3s7o"
   },
   "outputs": [
    {
     "data": {
      "text/plain": [
       "<AxesSubplot:>"
      ]
     },
     "metadata": {},
     "output_type": "display_data"
    },
    {
     "data": {
      "image/png": "[encoded data removed]",
      "text/plain": [
       "<Figure size 1152x576 with 1 Axes>"
      ]
     },
     "metadata": {
      "needs_background": "light"
     },
     "output_type": "display_data"
    }
   ],
   "source": [
    "MSE.plot(legend=True, grid=True, figsize=(16,8), xticks=np.linspace(0.1,1,16))"
   ]
  },
  {
   "cell_type": "code",
   "execution_count": 199,
   "id": "dcb51427",
   "metadata": {
    "cellId": "qzi4d32g5oo1qi4yevd3ych"
   },
   "outputs": [],
   "source": [
    "cat1=CatBoostRegressor(**best, iterations=200, depth=5, silent=True)\n",
    "cat1.fit(train_data_1.drop(columns=['y']), train_data_1.y, cat_features)\n",
    "preds=cat1.predict(val_data_1.drop(columns=['y']))"
   ]
  },
  {
   "cell_type": "code",
   "execution_count": 200,
   "id": "4b57eb2c",
   "metadata": {
    "cellId": "gmvm794lywlmyvj3k9keo"
   },
   "outputs": [],
   "source": [
    "val_data_1['preds']=preds"
   ]
  },
  {
   "cell_type": "code",
   "execution_count": 201,
   "id": "4c6a5317",
   "metadata": {
    "cellId": "y0q5zk1bna9wgwqi6y6wi"
   },
   "outputs": [
    {
     "data": {
      "text/plain": [
       "<AxesSubplot:>"
      ]
     },
     "metadata": {},
     "output_type": "display_data"
    },
    {
     "data": {
      "image/png": "[encoded data removed]",
      "text/plain": [
       "<Figure size 1152x576 with 1 Axes>"
      ]
     },
     "metadata": {
      "needs_background": "light"
     },
     "output_type": "display_data"
    }
   ],
   "source": [
    "(val_data_1[['y', 'preds']][val_data_1.zone=='1286']).loc['2016-05-01 12:00':'2016-05-09 23:00'].plot(figsize=(16,8))"
   ]
  },
  {
   "cell_type": "markdown",
   "id": "72210e9f",
   "metadata": {
    "cellId": "9m7dhyuljis2gth0yd0ooy"
   },
   "source": [
    "#### Невероятноя точность предсказаний на час вперед по валидационной выборке"
   ]
  },
  {
   "cell_type": "code",
   "execution_count": 210,
   "id": "9968bf6c",
   "metadata": {
    "cellId": "2wmyzu7vwmolac08lj7v9q"
   },
   "outputs": [
    {
     "data": {
      "text/plain": [
       "Index(['sar', 'trips', 'hour', 'trips_-6h'], dtype='object')"
      ]
     },
     "metadata": {},
     "output_type": "display_data"
    }
   ],
   "source": [
    "train_data_1.columns[np.argsort(cat.feature_importances_)[::-1][:4]]"
   ]
  },
  {
   "cell_type": "markdown",
   "id": "ad7b7abb",
   "metadata": {
    "cellId": "jkj9ehenzhl4cv832hrmvk"
   },
   "source": [
    "### Самые значимые признаки: Sarima, trips, hour, trips-6h"
   ]
  },
  {
   "cell_type": "markdown",
   "id": "501ada93",
   "metadata": {
    "cellId": "o2u2z58d347y4zyryavqhk"
   },
   "source": [
    "## Выборка для t+2"
   ]
  },
  {
   "cell_type": "code",
   "execution_count": 374,
   "id": "b8cd0e2d",
   "metadata": {
    "cellId": "2pd732ywq3f3fydw8gdpo"
   },
   "outputs": [
    {
     "name": "stdout",
     "output_type": "stream",
     "text": [
      "CPU times: user 1min 48s, sys: 2.8 s, total: 1min 51s\n",
      "Wall time: 1min 51s\n"
     ]
    }
   ],
   "source": [
    "%%time\n",
    "tim=2\n",
    "new_data=pd.DataFrame()\n",
    "for i in data.columns[:-10]:\n",
    "    q=pd.DataFrame(data[i].values, index=data.index, columns=['trips'])\n",
    "    for j in range(1,7):\n",
    "        q[f'trips_-{j}h']=data[i].shift(j)\n",
    "    for l in range(1,3):\n",
    "        q[f'trips_-{l*24}h']=data[i].shift(j)\n",
    "    q['zone']=i\n",
    "    q['day_of_week']=q.index.dayofweek\n",
    "    q['hour']=q.index.hour\n",
    "    sar=E[E.id.str.endswith(f'{tim}') & E.id.str.startswith(i)]\n",
    "    sar.index=pd.to_datetime(sar.id.str.replace(r'\\d{4,}_', '').str.replace(r'_\\d\\b', ''), format='%Y-%m-%d_%H')\n",
    "    sar.drop(columns=['id'], inplace=True)\n",
    "    q['sar']=sar\n",
    "    q['cumsum_12h']=q.trips.rolling('12h').sum()\n",
    "    q['cumsum_24h']=q.trips.rolling('24h').sum()\n",
    "    q['y']=data[i].shift(-2)\n",
    "    new_data=pd.concat([new_data, q])\n",
    "new_data=new_data.sort_index()\n",
    "new_data.dropna(inplace=True)"
   ]
  },
  {
   "cell_type": "code",
   "execution_count": 375,
   "id": "fe8f71c2",
   "metadata": {
    "cellId": "9sjjhtr2ijlela1ghnzjag"
   },
   "outputs": [],
   "source": [
    "data2=new_data.copy()\n",
    "train_data_2=data2.loc['2016-01-02':'2016-04-30']\n",
    "val_data_2=data2.loc['2016-05-01':'2016-05-31']"
   ]
  },
  {
   "cell_type": "markdown",
   "id": "2edb0005",
   "metadata": {
    "cellId": "ssgb4xf7ormnbjffdp6so"
   },
   "source": [
    "#### Осуществим подбор гиперпараметров по маю 2016 года"
   ]
  },
  {
   "cell_type": "code",
   "execution_count": 226,
   "id": "0e0a77bb",
   "metadata": {
    "cellId": "yepo87smv9acjqb0i5mahf"
   },
   "outputs": [],
   "source": [
    "def reg(params):\n",
    "    cat=CatBoostRegressor(**params, silent=True)\n",
    "    cat.fit(train_data_2.drop(columns=['y']), train_data_2.y, cat_features)\n",
    "    preds=cat.predict(val_data_2.drop(columns=['y']))\n",
    "    return mean_squared_error(val_data_2.y, preds)"
   ]
  },
  {
   "cell_type": "code",
   "execution_count": 231,
   "id": "5c5f7404",
   "metadata": {
    "cellId": "6k4z9ta3o8jeu2phw6hcu"
   },
   "outputs": [],
   "source": [
    "space={'depth':hp.randint('depth', 4,7),\n",
    "    'learning_rate':hp.uniform('learning_rate', 0.1, 1),\n",
    "    'iterations':hp.randint('iterations', 150,250)\n",
    "}"
   ]
  },
  {
   "cell_type": "code",
   "execution_count": 232,
   "id": "1d324b15",
   "metadata": {
    "cellId": "z0240gqk7lf465ilc8ebqf"
   },
   "outputs": [
    {
     "name": "stdout",
     "output_type": "stream",
     "text": [
      "100%|██████████| 30/30 [06:18<00:00, 12.63s/trial, best loss: 1636.1217748458582]\n"
     ]
    }
   ],
   "source": [
    "best1=fmin(\n",
    "    reg,\n",
    "    space=space,\n",
    "    algo=tpe.suggest,\n",
    "    max_evals=30)"
   ]
  },
  {
   "cell_type": "code",
   "execution_count": 233,
   "id": "212abbd2",
   "metadata": {
    "cellId": "7j8xurj045bmb1wsdfxhmp"
   },
   "outputs": [
    {
     "name": "stdout",
     "output_type": "stream",
     "text": [
      "{'depth': 6, 'iterations': 238, 'learning_rate': 0.3622177814378381}\n"
     ]
    }
   ],
   "source": [
    "print(best1)"
   ]
  },
  {
   "cell_type": "code",
   "execution_count": 234,
   "id": "cb6fc978",
   "metadata": {
    "cellId": "lp32hbwsszbia5mah3i8rd"
   },
   "outputs": [],
   "source": [
    "cat2=CatBoostRegressor(**best1, silent=True)"
   ]
  },
  {
   "cell_type": "markdown",
   "id": "67290588",
   "metadata": {
    "cellId": "52c62kku9v9u2ysexhqh3f"
   },
   "source": [
    "## Выборка для t+3"
   ]
  },
  {
   "cell_type": "code",
   "execution_count": 376,
   "id": "5f52f47e",
   "metadata": {
    "cellId": "nkzo9f3162tfi8frubr4i"
   },
   "outputs": [
    {
     "name": "stdout",
     "output_type": "stream",
     "text": [
      "CPU times: user 1min 49s, sys: 2.82 s, total: 1min 52s\n",
      "Wall time: 1min 51s\n"
     ]
    }
   ],
   "source": [
    "%%time\n",
    "tim=3\n",
    "new_data=pd.DataFrame()\n",
    "for i in data.columns[:-10]:\n",
    "    q=pd.DataFrame(data[i].values, index=data.index, columns=['trips'])\n",
    "    for j in range(1,7):\n",
    "        q[f'trips_-{j}h']=data[i].shift(j)\n",
    "    for l in range(1,3):\n",
    "        q[f'trips_-{l*24}h']=data[i].shift(j)\n",
    "    q['zone']=i\n",
    "    q['day_of_week']=q.index.dayofweek\n",
    "    q['hour']=q.index.hour\n",
    "    sar=E[E.id.str.endswith(f'{tim}') & E.id.str.startswith(i)]\n",
    "    sar.index=pd.to_datetime(sar.id.str.replace(r'\\d{4,}_', '').str.replace(r'_\\d\\b', ''), format='%Y-%m-%d_%H')\n",
    "    sar.drop(columns=['id'], inplace=True)\n",
    "    q['sar']=sar\n",
    "    q['cumsum_12h']=q.trips.rolling('12h').sum()\n",
    "    q['cumsum_24h']=q.trips.rolling('24h').sum()\n",
    "    q['y']=data[i].shift(-3)\n",
    "    new_data=pd.concat([new_data, q])\n",
    "new_data=new_data.sort_index()\n",
    "new_data.dropna(inplace=True)"
   ]
  },
  {
   "cell_type": "code",
   "execution_count": 377,
   "id": "72194fe7",
   "metadata": {
    "cellId": "ncmf2czs8aom6zfrq3aheh"
   },
   "outputs": [],
   "source": [
    "data3=new_data.copy()\n",
    "train_data_3=data3.loc['2016-01-02':'2016-04-30']\n",
    "val_data_3=data3.loc['2016-05-01':'2016-05-31']"
   ]
  },
  {
   "cell_type": "markdown",
   "id": "373d3071",
   "metadata": {
    "cellId": "43ab2vxcpmu5edeqvze4hp"
   },
   "source": [
    "#### Осуществим подбор гиперпараметров по маю 2016 года"
   ]
  },
  {
   "cell_type": "code",
   "execution_count": 263,
   "id": "7c904c8a",
   "metadata": {
    "cellId": "gfi9hgwo3loasqvgrf8t6"
   },
   "outputs": [],
   "source": [
    "def reg(params):\n",
    "    cat=CatBoostRegressor(**params, silent=True)\n",
    "    cat.fit(train_data_3.drop(columns=['y']), train_data_3.y, cat_features)\n",
    "    preds=cat.predict(val_data_3.drop(columns=['y']))\n",
    "    return mean_squared_error(val_data_3.y, preds)"
   ]
  },
  {
   "cell_type": "code",
   "execution_count": 264,
   "id": "5f090419",
   "metadata": {
    "cellId": "phkm5hbq8cow55z43nu7"
   },
   "outputs": [],
   "source": [
    "space={'depth':hp.randint('depth', 4,7),\n",
    "    'learning_rate':hp.uniform('learning_rate', 0.1, 1),\n",
    "    'iterations':hp.randint('iterations', 150,270)\n",
    "}"
   ]
  },
  {
   "cell_type": "code",
   "execution_count": 265,
   "id": "cd7918ef",
   "metadata": {
    "cellId": "gek2bluwrnkvteaov4g4ae"
   },
   "outputs": [
    {
     "name": "stdout",
     "output_type": "stream",
     "text": [
      "100%|██████████| 100/100 [24:40<00:00, 14.81s/trial, best loss: 1980.936282831685]\n"
     ]
    }
   ],
   "source": [
    "best2=fmin(\n",
    "    reg,\n",
    "    space=space,\n",
    "    algo=tpe.suggest,\n",
    "    max_evals=100)"
   ]
  },
  {
   "cell_type": "code",
   "execution_count": 266,
   "id": "3331d101",
   "metadata": {
    "cellId": "aleyarb27e1be3srrivz5"
   },
   "outputs": [
    {
     "name": "stdout",
     "output_type": "stream",
     "text": [
      "{'depth': 6, 'iterations': 248, 'learning_rate': 0.4818141404128581}\n"
     ]
    }
   ],
   "source": [
    "print(best2)"
   ]
  },
  {
   "cell_type": "code",
   "execution_count": 267,
   "id": "a038a737",
   "metadata": {
    "cellId": "us12l9fim5qkvbysxsevcj"
   },
   "outputs": [],
   "source": [
    "cat3=CatBoostRegressor(**best2, silent=True)"
   ]
  },
  {
   "cell_type": "markdown",
   "id": "4c49c96a",
   "metadata": {
    "cellId": "3oo0e421jw7ryv8j7z4n5"
   },
   "source": [
    "## Выборка для t+4"
   ]
  },
  {
   "cell_type": "code",
   "execution_count": 378,
   "id": "b4f88918",
   "metadata": {
    "cellId": "xxluw5zuo0guqodna9h6t"
   },
   "outputs": [
    {
     "name": "stdout",
     "output_type": "stream",
     "text": [
      "CPU times: user 1min 49s, sys: 2.72 s, total: 1min 51s\n",
      "Wall time: 1min 51s\n"
     ]
    }
   ],
   "source": [
    "%%time\n",
    "tim=4\n",
    "new_data=pd.DataFrame()\n",
    "for i in data.columns[:-10]:\n",
    "    q=pd.DataFrame(data[i].values, index=data.index, columns=['trips'])\n",
    "    for j in range(1,7):\n",
    "        q[f'trips_-{j}h']=data[i].shift(j)\n",
    "    for l in range(1,3):\n",
    "        q[f'trips_-{l*24}h']=data[i].shift(j)\n",
    "    q['zone']=i\n",
    "    q['day_of_week']=q.index.dayofweek\n",
    "    q['hour']=q.index.hour\n",
    "    sar=E[E.id.str.endswith(f'{tim}') & E.id.str.startswith(i)]\n",
    "    sar.index=pd.to_datetime(sar.id.str.replace(r'\\d{4,}_', '').str.replace(r'_\\d\\b', ''), format='%Y-%m-%d_%H')\n",
    "    sar.drop(columns=['id'], inplace=True)\n",
    "    q['sar']=sar\n",
    "    q['cumsum_12h']=q.trips.rolling('12h').sum()\n",
    "    q['cumsum_24h']=q.trips.rolling('24h').sum()\n",
    "    q['y']=data[i].shift(-4)\n",
    "    new_data=pd.concat([new_data, q])\n",
    "new_data=new_data.sort_index()\n",
    "new_data.dropna(inplace=True)"
   ]
  },
  {
   "cell_type": "code",
   "execution_count": 379,
   "id": "22a5b6c0",
   "metadata": {
    "cellId": "1fqv2sxib5r6g1bpxj3met"
   },
   "outputs": [],
   "source": [
    "data4=new_data.copy()\n",
    "train_data_4=data4.loc['2016-01-02':'2016-04-30']\n",
    "val_data_4=data4.loc['2016-05-01':'2016-05-31']"
   ]
  },
  {
   "cell_type": "markdown",
   "id": "377e79c1",
   "metadata": {
    "cellId": "nxf6onlrlbgqylvgzmnbt"
   },
   "source": [
    "#### Осуществим подбор гиперпараметров по маю 2016 года"
   ]
  },
  {
   "cell_type": "code",
   "execution_count": 271,
   "id": "08c72456",
   "metadata": {
    "cellId": "j6ee3m1gsuqjvam41up6i"
   },
   "outputs": [],
   "source": [
    "def reg(params):\n",
    "    cat=CatBoostRegressor(**params, silent=True)\n",
    "    cat.fit(train_data_4.drop(columns=['y']), train_data_4.y, cat_features)\n",
    "    preds=cat.predict(val_data_4.drop(columns=['y']))\n",
    "    return mean_squared_error(val_data_4.y, preds)"
   ]
  },
  {
   "cell_type": "code",
   "execution_count": 272,
   "id": "4b45ad94",
   "metadata": {
    "cellId": "iq1ck5frcsbgscy3x68dlp"
   },
   "outputs": [],
   "source": [
    "space={'depth':hp.randint('depth', 4,7),\n",
    "    'learning_rate':hp.uniform('learning_rate', 0.1, 1),\n",
    "    'iterations':hp.randint('iterations', 150,270)\n",
    "}"
   ]
  },
  {
   "cell_type": "code",
   "execution_count": 273,
   "id": "364e2e55",
   "metadata": {
    "cellId": "5z6qpq9cwkurnfgyu3of2"
   },
   "outputs": [
    {
     "name": "stdout",
     "output_type": "stream",
     "text": [
      "100%|██████████| 100/100 [25:03<00:00, 15.03s/trial, best loss: 2208.4933129726073]\n"
     ]
    }
   ],
   "source": [
    "best3=fmin(\n",
    "    reg,\n",
    "    space=space,\n",
    "    algo=tpe.suggest,\n",
    "    max_evals=100)"
   ]
  },
  {
   "cell_type": "code",
   "execution_count": 274,
   "id": "be47b287",
   "metadata": {
    "cellId": "4nwme7vnuya64fm6b4iykg"
   },
   "outputs": [
    {
     "name": "stdout",
     "output_type": "stream",
     "text": [
      "{'depth': 6, 'iterations': 249, 'learning_rate': 0.43650485657512605}\n"
     ]
    }
   ],
   "source": [
    "print(best3)"
   ]
  },
  {
   "cell_type": "code",
   "execution_count": 275,
   "id": "7b43fdb8",
   "metadata": {
    "cellId": "6gzhu5r8zgl7d6bxc726v6"
   },
   "outputs": [],
   "source": [
    "cat4=CatBoostRegressor(**best3, silent=True)"
   ]
  },
  {
   "cell_type": "markdown",
   "id": "332848bc",
   "metadata": {
    "cellId": "ncn9bx6roiiufwdz3eo1fb"
   },
   "source": [
    "## Выборка для t+5"
   ]
  },
  {
   "cell_type": "code",
   "execution_count": 380,
   "id": "f260140c",
   "metadata": {
    "cellId": "2paxx0v631km7q2nb1z64q"
   },
   "outputs": [
    {
     "name": "stdout",
     "output_type": "stream",
     "text": [
      "CPU times: user 1min 48s, sys: 2.33 s, total: 1min 51s\n",
      "Wall time: 1min 51s\n"
     ]
    }
   ],
   "source": [
    "%%time\n",
    "tim=5\n",
    "new_data=pd.DataFrame()\n",
    "for i in data.columns[:-10]:\n",
    "    q=pd.DataFrame(data[i].values, index=data.index, columns=['trips'])\n",
    "    for j in range(1,7):\n",
    "        q[f'trips_-{j}h']=data[i].shift(j)\n",
    "    for l in range(1,3):\n",
    "        q[f'trips_-{l*24}h']=data[i].shift(j)\n",
    "    q['zone']=i\n",
    "    q['day_of_week']=q.index.dayofweek\n",
    "    q['hour']=q.index.hour\n",
    "    sar=E[E.id.str.endswith(f'{tim}') & E.id.str.startswith(i)]\n",
    "    sar.index=pd.to_datetime(sar.id.str.replace(r'\\d{4,}_', '').str.replace(r'_\\d\\b', ''), format='%Y-%m-%d_%H')\n",
    "    sar.drop(columns=['id'], inplace=True)\n",
    "    q['sar']=sar\n",
    "    q['cumsum_12h']=q.trips.rolling('12h').sum()\n",
    "    q['cumsum_24h']=q.trips.rolling('24h').sum()\n",
    "    q['y']=data[i].shift(-5)\n",
    "    new_data=pd.concat([new_data, q])\n",
    "new_data=new_data.sort_index()\n",
    "new_data.dropna(inplace=True)"
   ]
  },
  {
   "cell_type": "code",
   "execution_count": 381,
   "id": "3424c486",
   "metadata": {
    "cellId": "xlyfzgrffyejs9t7khalb"
   },
   "outputs": [],
   "source": [
    "data5=new_data.copy()\n",
    "train_data_5=data5.loc['2016-01-02':'2016-04-30']\n",
    "val_data_5=data5.loc['2016-05-01':'2016-05-31']"
   ]
  },
  {
   "cell_type": "markdown",
   "id": "a9493ca1",
   "metadata": {
    "cellId": "ml75lh3mmefymgwoevtn38"
   },
   "source": [
    "#### Осуществим подбор гиперпараметров по маю 2016 года"
   ]
  },
  {
   "cell_type": "code",
   "execution_count": 281,
   "id": "5e173b51",
   "metadata": {
    "cellId": "o6zvctck397cub0gyqk14"
   },
   "outputs": [],
   "source": [
    "def reg(params):\n",
    "    cat=CatBoostRegressor(**params, silent=True)\n",
    "    cat.fit(train_data_5.drop(columns=['y']), train_data_5.y, cat_features)\n",
    "    preds=cat.predict(val_data_5.drop(columns=['y']))\n",
    "    return mean_squared_error(val_data_5.y, preds)"
   ]
  },
  {
   "cell_type": "code",
   "execution_count": 282,
   "id": "f4f764d0",
   "metadata": {
    "cellId": "hsjxhuixlmhvrio8wso20o"
   },
   "outputs": [],
   "source": [
    "space={'depth':hp.randint('depth', 4,7),\n",
    "    'learning_rate':hp.uniform('learning_rate', 0.1, 1),\n",
    "    'iterations':hp.randint('iterations', 150,270)\n",
    "}"
   ]
  },
  {
   "cell_type": "code",
   "execution_count": 283,
   "id": "9d86b41c",
   "metadata": {
    "cellId": "jhgvknw7l5xtt8mrosf0q"
   },
   "outputs": [
    {
     "name": "stdout",
     "output_type": "stream",
     "text": [
      "100%|██████████| 100/100 [25:22<00:00, 15.23s/trial, best loss: 2296.1395341860402]\n"
     ]
    }
   ],
   "source": [
    "best4=fmin(\n",
    "    reg,\n",
    "    space=space,\n",
    "    algo=tpe.suggest,\n",
    "    max_evals=100)"
   ]
  },
  {
   "cell_type": "code",
   "execution_count": 284,
   "id": "1ed099df",
   "metadata": {
    "cellId": "bf07m21rd9peqiq6h2k"
   },
   "outputs": [
    {
     "name": "stdout",
     "output_type": "stream",
     "text": [
      "{'depth': 6, 'iterations': 268, 'learning_rate': 0.3502113318446423}\n"
     ]
    }
   ],
   "source": [
    "print(best4)"
   ]
  },
  {
   "cell_type": "code",
   "execution_count": 285,
   "id": "a412e3d7",
   "metadata": {
    "cellId": "gd9mfndokityjcadaigfb"
   },
   "outputs": [],
   "source": [
    "cat5=CatBoostRegressor(**best4, silent=True)"
   ]
  },
  {
   "cell_type": "markdown",
   "id": "fe6869d3",
   "metadata": {
    "cellId": "ysny8fcpx2kc8srb2elor7"
   },
   "source": [
    "## Выборка для t+6"
   ]
  },
  {
   "cell_type": "code",
   "execution_count": 382,
   "id": "c8593857",
   "metadata": {
    "cellId": "qe8l7nckm7b1jlrgifplci"
   },
   "outputs": [
    {
     "name": "stdout",
     "output_type": "stream",
     "text": [
      "CPU times: user 1min 48s, sys: 2.17 s, total: 1min 50s\n",
      "Wall time: 1min 50s\n"
     ]
    }
   ],
   "source": [
    "%%time\n",
    "tim=6\n",
    "new_data=pd.DataFrame()\n",
    "for i in data.columns[:-10]:\n",
    "    q=pd.DataFrame(data[i].values, index=data.index, columns=['trips'])\n",
    "    for j in range(1,7):\n",
    "        q[f'trips_-{j}h']=data[i].shift(j)\n",
    "    for l in range(1,3):\n",
    "        q[f'trips_-{l*24}h']=data[i].shift(j)\n",
    "    q['zone']=i\n",
    "    q['day_of_week']=q.index.dayofweek\n",
    "    q['hour']=q.index.hour\n",
    "    sar=E[E.id.str.endswith(f'{tim}') & E.id.str.startswith(i)]\n",
    "    sar.index=pd.to_datetime(sar.id.str.replace(r'\\d{4,}_', '').str.replace(r'_\\d\\b', ''), format='%Y-%m-%d_%H')\n",
    "    sar.drop(columns=['id'], inplace=True)\n",
    "    q['sar']=sar\n",
    "    q['cumsum_12h']=q.trips.rolling('12h').sum()\n",
    "    q['cumsum_24h']=q.trips.rolling('24h').sum()\n",
    "    q['y']=data[i].shift(-6)\n",
    "    new_data=pd.concat([new_data, q])\n",
    "new_data=new_data.sort_index()\n",
    "new_data.dropna(inplace=True)"
   ]
  },
  {
   "cell_type": "code",
   "execution_count": 383,
   "id": "7c685dcc",
   "metadata": {
    "cellId": "thgnpjc42rqf58hvsert7"
   },
   "outputs": [],
   "source": [
    "data6=new_data.copy()\n",
    "train_data_6=data6.loc['2016-01-02':'2016-04-30']\n",
    "val_data_6=data6.loc['2016-05-01':'2016-05-31']"
   ]
  },
  {
   "cell_type": "markdown",
   "id": "27e0a9dc",
   "metadata": {
    "cellId": "9gsgojop0z45yqugci0tn"
   },
   "source": [
    "#### Осуществим подбор гиперпараметров по маю 2016 года"
   ]
  },
  {
   "cell_type": "code",
   "execution_count": 288,
   "id": "d5b18dd6",
   "metadata": {
    "cellId": "0sf689908kiq8x4470me5k"
   },
   "outputs": [],
   "source": [
    "def reg(params):\n",
    "    cat=CatBoostRegressor(**params, silent=True)\n",
    "    cat.fit(train_data_6.drop(columns=['y']), train_data_6.y, cat_features)\n",
    "    preds=cat.predict(val_data_6.drop(columns=['y']))\n",
    "    return mean_squared_error(val_data_6.y, preds)"
   ]
  },
  {
   "cell_type": "code",
   "execution_count": 289,
   "id": "b2578c19",
   "metadata": {
    "cellId": "foyao9n7wx46korchh5ox"
   },
   "outputs": [],
   "source": [
    "space={'depth':hp.randint('depth', 4,7),\n",
    "    'learning_rate':hp.uniform('learning_rate', 0.1, 1),\n",
    "    'iterations':hp.randint('iterations', 150,270)\n",
    "}"
   ]
  },
  {
   "cell_type": "code",
   "execution_count": 290,
   "id": "da7c015c",
   "metadata": {
    "cellId": "4rn9rkl8d76t91wf34vkd"
   },
   "outputs": [
    {
     "name": "stdout",
     "output_type": "stream",
     "text": [
      "100%|██████████| 100/100 [25:44<00:00, 15.44s/trial, best loss: 2418.6512950606484]\n"
     ]
    }
   ],
   "source": [
    "best5=fmin(\n",
    "    reg,\n",
    "    space=space,\n",
    "    algo=tpe.suggest,\n",
    "    max_evals=100)"
   ]
  },
  {
   "cell_type": "code",
   "execution_count": 291,
   "id": "d5964716",
   "metadata": {
    "cellId": "c01psfxp7q81mnofew2usp"
   },
   "outputs": [
    {
     "name": "stdout",
     "output_type": "stream",
     "text": [
      "{'depth': 6, 'iterations': 260, 'learning_rate': 0.3164001656812308}\n"
     ]
    }
   ],
   "source": [
    "print(best5)"
   ]
  },
  {
   "cell_type": "code",
   "execution_count": 345,
   "id": "df73d553",
   "metadata": {
    "cellId": "byzb55lh8hp3j2oajwkulj"
   },
   "outputs": [],
   "source": [
    "cat6=CatBoostRegressor(**best5, silent=True)"
   ]
  },
  {
   "cell_type": "markdown",
   "id": "6bf1eec4",
   "metadata": {
    "cellId": "6ndhl7yd1j92x3kgpagumv"
   },
   "source": [
    "## Построение прогнозов на май и проверка качества по Q"
   ]
  },
  {
   "cell_type": "markdown",
   "id": "6339f30d",
   "metadata": {
    "cellId": "6fime8wse1mfanzlqxhbsi"
   },
   "source": [
    "##### Искоючим из обучения моделей первые сутки"
   ]
  },
  {
   "cell_type": "code",
   "execution_count": 384,
   "id": "0c5fb767",
   "metadata": {
    "cellId": "zrxxjlolferal95fcxiyxp"
   },
   "outputs": [],
   "source": [
    "data1=data1.loc['2016-01-02':]\n",
    "data2=data2.loc['2016-01-02':]\n",
    "data3=data3.loc['2016-01-02':]\n",
    "data4=data4.loc['2016-01-02':]\n",
    "data5=data5.loc['2016-01-02':]\n",
    "data6=data6.loc['2016-01-02':]"
   ]
  },
  {
   "cell_type": "code",
   "execution_count": 387,
   "id": "859b60fa",
   "metadata": {
    "cellId": "ao5iq2dt99bcbdae99l2u6"
   },
   "outputs": [
    {
     "name": "stdout",
     "output_type": "stream",
     "text": [
      "CPU times: user 7min 47s, sys: 34.9 s, total: 8min 22s\n",
      "Wall time: 2min 12s\n"
     ]
    },
    {
     "data": {
      "text/plain": [
       "<catboost.core.CatBoostRegressor at 0x7fab36be2c90>"
      ]
     },
     "metadata": {},
     "output_type": "display_data"
    }
   ],
   "source": [
    "%%time\n",
    "cat1.fit(data1.loc[:'2016-04-30'].drop(columns=['y']), data1.loc[:'2016-04-30'].y, cat_features)\n",
    "cat2.fit(data2.loc[:'2016-04-30'].drop(columns=['y']), data2.loc[:'2016-04-30'].y, cat_features)\n",
    "cat3.fit(data3.loc[:'2016-04-30'].drop(columns=['y']), data3.loc[:'2016-04-30'].y, cat_features)\n",
    "cat4.fit(data4.loc[:'2016-04-30'].drop(columns=['y']), data4.loc[:'2016-04-30'].y, cat_features)\n",
    "cat5.fit(data5.loc[:'2016-04-30'].drop(columns=['y']), data5.loc[:'2016-04-30'].y, cat_features)\n",
    "cat6.fit(data6.loc[:'2016-04-30'].drop(columns=['y']), data6.loc[:'2016-04-30'].y, cat_features)"
   ]
  },
  {
   "cell_type": "code",
   "execution_count": 510,
   "id": "21185cc1",
   "metadata": {
    "cellId": "1nokf422fgcnzm4mkq896"
   },
   "outputs": [],
   "source": [
    "tvm=pd.read_csv('true_vals_may.csv', index_col='id').iloc[:,0]"
   ]
  },
  {
   "cell_type": "code",
   "execution_count": 511,
   "id": "de5b7e03",
   "metadata": {
    "cellId": "j6oqtv2gsepyzgm4ohd9h"
   },
   "outputs": [],
   "source": [
    "ans_may=pd.Series(0.0, index=tvm.index)"
   ]
  },
  {
   "cell_type": "code",
   "execution_count": 520,
   "id": "685e1e20",
   "metadata": {
    "cellId": "ue7nmv7n9eq62n3dvnzglb"
   },
   "outputs": [
    {
     "name": "stdout",
     "output_type": "stream",
     "text": [
      "CPU times: user 2min 36s, sys: 452 ms, total: 2min 37s\n",
      "Wall time: 2min 36s\n"
     ]
    }
   ],
   "source": [
    "%%time\n",
    "for r in data.columns[:-10]:\n",
    "    ans_may[(ans_may.index.str.startswith(f'{r}')) &\\\n",
    "             (ans_may.index.str.endswith('1'))]=cat1.predict(\n",
    "        data1[data1.zone==f'{r}'].loc['2016-04-30 23:00':'2016-05-31 17:00'].drop(columns=['y']))\n",
    "    \n",
    "    ans_may[(ans_may.index.str.startswith(f'{r}')) &\\\n",
    "             (ans_may.index.str.endswith('2'))]=cat2.predict(\n",
    "        data2[data2.zone==f'{r}'].loc['2016-04-30 23:00':'2016-05-31 17:00'].drop(columns=['y']))\n",
    "    \n",
    "    ans_may[(ans_may.index.str.startswith(f'{r}')) &\\\n",
    "             (ans_may.index.str.endswith('3'))]=cat3.predict(\n",
    "        data3[data3.zone==f'{r}'].loc['2016-04-30 23:00':'2016-05-31 17:00'].drop(columns=['y']))\n",
    "    \n",
    "    ans_may[(ans_may.index.str.startswith(f'{r}')) &\\\n",
    "             (ans_may.index.str.endswith('4'))]=cat4.predict(\n",
    "        data4[data4.zone==f'{r}'].loc['2016-04-30 23:00':'2016-05-31 17:00'].drop(columns=['y']))\n",
    "    \n",
    "    ans_may[(ans_may.index.str.startswith(f'{r}')) &\\\n",
    "             (ans_may.index.str.endswith('5'))]=cat5.predict(\n",
    "        data5[data5.zone==f'{r}'].loc['2016-04-30 23:00':'2016-05-31 17:00'].drop(columns=['y']))\n",
    "    \n",
    "    ans_may[(ans_may.index.str.startswith(f'{r}')) &\\\n",
    "             (ans_may.index.str.endswith('6'))]=cat6.predict(\n",
    "        data6[data6.zone==f'{r}'].loc['2016-04-30 23:00':'2016-05-31 17:00'].drop(columns=['y']))"
   ]
  },
  {
   "cell_type": "code",
   "execution_count": 521,
   "id": "4cdf5106",
   "metadata": {
    "cellId": "8dhn71nhg5ck83855kwmn"
   },
   "outputs": [
    {
     "name": "stdout",
     "output_type": "stream",
     "text": [
      "21.512068300897802\n"
     ]
    }
   ],
   "source": [
    "Q=1/(102*739*6)*(np.abs(ans_may-tvm).sum())\n",
    "print(Q)"
   ]
  },
  {
   "cell_type": "markdown",
   "id": "6ffff32d",
   "metadata": {
    "cellId": "o4l9ody02r8uc0fmqswxf"
   },
   "source": [
    "#### Как мы видим качество существенно улучшилось! Переходим к июню"
   ]
  },
  {
   "cell_type": "markdown",
   "id": "25c405f9",
   "metadata": {
    "cellId": "9xxkiqbl97kmy48jyuk"
   },
   "source": [
    "## Моделирование июня"
   ]
  },
  {
   "cell_type": "markdown",
   "id": "0c8cbfcd",
   "metadata": {
    "cellId": "7qave6x0v3t9mwtpva2jo8"
   },
   "source": [
    "#### Переобучим модели на данных, которые включают май"
   ]
  },
  {
   "cell_type": "code",
   "execution_count": 564,
   "id": "988448b8",
   "metadata": {
    "cellId": "7xu0dbw4ubqfpy5bnr72qt"
   },
   "outputs": [
    {
     "name": "stdout",
     "output_type": "stream",
     "text": [
      "CPU times: user 11min 1s, sys: 50.8 s, total: 11min 51s\n",
      "Wall time: 3min 9s\n"
     ]
    },
    {
     "data": {
      "text/plain": [
       "<catboost.core.CatBoostRegressor at 0x7f1e2c0bd5d0>"
      ]
     },
     "metadata": {},
     "output_type": "display_data"
    }
   ],
   "source": [
    "%%time\n",
    "cat1.fit(data1.loc[:'2016-05-31 22:00'].drop(columns=['y']), data1.loc[:'2016-05-31 22:00'].y, cat_features)\n",
    "cat2.fit(data2.loc[:'2016-05-31 22:00'].drop(columns=['y']), data2.loc[:'2016-05-31 22:00'].y, cat_features)\n",
    "cat3.fit(data3.loc[:'2016-05-31 22:00'].drop(columns=['y']), data3.loc[:'2016-05-31 22:00'].y, cat_features)\n",
    "cat4.fit(data4.loc[:'2016-05-31 22:00'].drop(columns=['y']), data4.loc[:'2016-05-31 22:00'].y, cat_features)\n",
    "cat5.fit(data5.loc[:'2016-05-31 22:00'].drop(columns=['y']), data5.loc[:'2016-05-31 22:00'].y, cat_features)\n",
    "cat6.fit(data6.loc[:'2016-05-31 22:00'].drop(columns=['y']), data6.loc[:'2016-05-31 22:00'].y, cat_features)"
   ]
  },
  {
   "cell_type": "code",
   "execution_count": 558,
   "id": "97961325",
   "metadata": {
    "cellId": "10g2fuw4xd8kbpcsvmnfec"
   },
   "outputs": [],
   "source": [
    "tvj=pd.read_csv('true_vals_june.csv', index_col='id').iloc[:,0]"
   ]
  },
  {
   "cell_type": "code",
   "execution_count": 565,
   "id": "f9373e0a",
   "metadata": {
    "cellId": "rbymvs4qchl8n7jmn65bpv"
   },
   "outputs": [],
   "source": [
    "ans_june=pd.Series(0.0, index=tvj.index)"
   ]
  },
  {
   "cell_type": "code",
   "execution_count": 566,
   "id": "2b753e39",
   "metadata": {
    "cellId": "nq92xq3owdajiezbmmre4"
   },
   "outputs": [
    {
     "name": "stdout",
     "output_type": "stream",
     "text": [
      "CPU times: user 2min 33s, sys: 368 ms, total: 2min 34s\n",
      "Wall time: 2min 33s\n"
     ]
    }
   ],
   "source": [
    "%%time\n",
    "for r in data.columns[:-10]:\n",
    "    ans_june[(ans_june.index.str.startswith(f'{r}')) &\\\n",
    "             (ans_june.index.str.endswith('1'))]=cat1.predict(\n",
    "        data1[data1.zone==f'{r}'].loc['2016-05-31 23:00':'2016-06-30'].drop(columns=['y']))\n",
    "    \n",
    "    ans_june[(ans_june.index.str.startswith(f'{r}')) &\\\n",
    "             (ans_june.index.str.endswith('2'))]=cat2.predict(\n",
    "        data2[data2.zone==f'{r}'].loc['2016-05-31 23:00':'2016-06-30'].drop(columns=['y']))\n",
    "    \n",
    "    ans_june[(ans_june.index.str.startswith(f'{r}')) &\\\n",
    "             (ans_june.index.str.endswith('3'))]=cat3.predict(\n",
    "        data3[data3.zone==f'{r}'].loc['2016-05-31 23:00':'2016-06-30'].drop(columns=['y']))\n",
    "    \n",
    "    ans_june[(ans_june.index.str.startswith(f'{r}')) &\\\n",
    "             (ans_june.index.str.endswith('4'))]=cat4.predict(\n",
    "        data4[data4.zone==f'{r}'].loc['2016-05-31 23:00':'2016-06-30'].drop(columns=['y']))\n",
    "    \n",
    "    ans_june[(ans_june.index.str.startswith(f'{r}')) &\\\n",
    "             (ans_june.index.str.endswith('5'))]=cat5.predict(\n",
    "        data5[data5.zone==f'{r}'].loc['2016-05-31 23:00':'2016-06-30'].drop(columns=['y']))\n",
    "    \n",
    "    ans_june[(ans_june.index.str.startswith(f'{r}')) &\\\n",
    "             (ans_june.index.str.endswith('6'))]=cat6.predict(\n",
    "        data6[data6.zone==f'{r}'].loc['2016-05-31 23:00':'2016-06-30'].drop(columns=['y']))"
   ]
  },
  {
   "cell_type": "code",
   "execution_count": 567,
   "id": "93649ec0",
   "metadata": {
    "cellId": "1ohm799qxi9q3ab6bt9y4"
   },
   "outputs": [
    {
     "name": "stdout",
     "output_type": "stream",
     "text": [
      "20.547586127587543\n"
     ]
    }
   ],
   "source": [
    "Q=1/(102*715*6)*(np.abs(tvj-ans_june).sum())\n",
    "print(Q)"
   ]
  },
  {
   "cell_type": "code",
   "execution_count": 569,
   "id": "8f87ac64",
   "metadata": {
    "cellId": "0xedum5w95upi5owrktybpa"
   },
   "outputs": [],
   "source": [
    "ans_june.to_csv('sample_solution_june.csv', index_label='id', header=True)"
   ]
  },
  {
   "cell_type": "markdown",
   "id": "17dfa1c3",
   "metadata": {
    "cellId": "npbnrpmg8ltbaen7yer8d"
   },
   "source": [
    "## Kagle"
   ]
  },
  {
   "attachments": {
    "91d7b57c-1e15-4dee-b118-cb658c53cc97.png": {
     "image/png": "[encoded data removed]"
    }
   },
   "cell_type": "markdown",
   "id": "9abe4aa7",
   "metadata": {},
   "source": [
    "![image.png](attachment:91d7b57c-1e15-4dee-b118-cb658c53cc97.png)"
   ]
  },
  {
   "cell_type": "markdown",
   "id": "7c619ea2",
   "metadata": {},
   "source": [
    "## 20.54 Отличный результат"
   ]
  },
  {
   "cell_type": "code",
   "execution_count": null,
   "id": "5f0c829b",
   "metadata": {},
   "outputs": [],
   "source": []
  }
 ],
 "metadata": {
  "kernelspec": {
   "display_name": "Python 3",
   "language": "python",
   "name": "python3"
  },
  "language_info": {
   "codemirror_mode": {
    "name": "ipython",
    "version": 3
   },
   "file_extension": ".py",
   "mimetype": "text/x-python",
   "name": "python",
   "nbconvert_exporter": "python",
   "pygments_lexer": "ipython3",
   "version": "3.8.8"
  },
  "notebookId": "59ee1830-edf6-4514-bd77-4aeadbd3a833"
 },
 "nbformat": 4,
 "nbformat_minor": 5
}
