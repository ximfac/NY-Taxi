{
 "cells": [
  {
   "cell_type": "code",
   "execution_count": 2,
   "id": "827fb797",
   "metadata": {
    "cellId": "09wdcvts2muhbdgbpvypsw"
   },
   "outputs": [],
   "source": [
    "%matplotlib inline\n",
    "import pandas as pd\n",
    "import numpy as np\n",
    "from scipy import stats\n",
    "import statsmodels.api as sm\n",
    "import matplotlib.pyplot as plt\n",
    "import warnings\n",
    "from sklearn.preprocessing import StandardScaler\n",
    "from sklearn.neighbors import LocalOutlierFactor\n",
    "warnings.filterwarnings('ignore')\n",
    "from itertools import product\n",
    "\n",
    "def invboxcox(y,lmbda):\n",
    "    if lmbda == 0:\n",
    "        return(np.exp(y))\n",
    "    else:\n",
    "        return(np.exp(np.log(lmbda*y+1)/lmbda))\n",
    "data = pd.read_csv('Taxi.4.csv', index_col=0, parse_dates=True)"
   ]
  },
  {
   "cell_type": "code",
   "execution_count": 3,
   "id": "b72cc2f5",
   "metadata": {},
   "outputs": [],
   "source": [
    "regions=pd.read_csv('regions.csv', sep=';')\n",
    "regions.index=regions.region\n",
    "regions.drop(['region'], axis=1, inplace=True)"
   ]
  },
  {
   "cell_type": "code",
   "execution_count": 658,
   "id": "59e440e0",
   "metadata": {
    "cellId": "bc7a21zt9joi5k5127v"
   },
   "outputs": [],
   "source": [
    "for i in range(1, 6):\n",
    "    data[f'w_s{i}']=np.sin(np.arange(1, data.shape[0]+1, 1)*2*np.pi*i/168)\n",
    "    data[f'w_c{i}']=np.cos(np.arange(1, data.shape[0]+1, 1)*2*np.pi*i/168)"
   ]
  },
  {
   "cell_type": "markdown",
   "id": "cdeaae5a",
   "metadata": {
    "cellId": "pxg406o2b193xp6z8f2x7k"
   },
   "source": [
    "#### Прогнозы SARIMAX на все часы с 01.01.2016-30.06.2016"
   ]
  },
  {
   "cell_type": "code",
   "execution_count": 659,
   "id": "b6dc0337",
   "metadata": {
    "cellId": "admx91yd2u96zk8vmrnfvb"
   },
   "outputs": [],
   "source": [
    "E=pd.read_csv('sarima.csv')"
   ]
  },
  {
   "cell_type": "markdown",
   "id": "7b15c2f7",
   "metadata": {
    "cellId": "eqqmhvx4du4wmbhdhd675l"
   },
   "source": [
    "## Дополнительные факторы"
   ]
  },
  {
   "cell_type": "markdown",
   "id": "fcc7a17a",
   "metadata": {
    "cellId": "ins296xf21rl4303f5bo"
   },
   "source": [
    "#### После анализа множества вариантов, я решил остановиться на добавлении следующих факторов:\n",
    "#### 1) Праздники"
   ]
  },
  {
   "cell_type": "code",
   "execution_count": 660,
   "id": "507bde5e",
   "metadata": {
    "cellId": "68az5lknzcf9o6avo4dupu"
   },
   "outputs": [],
   "source": [
    "party=['2016-01-01', '2016-01-18', '2016-02-14', '2016-02-15', '2016-03-17', '2016-03-27', '2016-05-30', '2016-06-14']"
   ]
  },
  {
   "cell_type": "code",
   "execution_count": 661,
   "id": "6708f66e",
   "metadata": {
    "cellId": "8fg49v17veu800h2o00qar"
   },
   "outputs": [],
   "source": [
    "party_days=pd.to_datetime(party)"
   ]
  },
  {
   "cell_type": "code",
   "execution_count": 662,
   "id": "fbedee29",
   "metadata": {
    "cellId": "yw1war96el6ecbezqq2sp"
   },
   "outputs": [],
   "source": [
    "party_days_f=[]\n",
    "party_days_f.extend([pd.date_range(i, i+pd.Timedelta(hours=23), freq='1h').values for i in party_days])"
   ]
  },
  {
   "cell_type": "markdown",
   "id": "65d00f7a",
   "metadata": {
    "cellId": "k1qo9nvnteptlmw5v5io6l"
   },
   "source": [
    "#### 2) Факторы, связанные с поездками из соседних географических зон (окрестность это номер ячейки -51,-50,-49,-1,+1,+49,+50,+51 ячейки)"
   ]
  },
  {
   "cell_type": "markdown",
   "id": "7329c87d",
   "metadata": {
    "cellId": "dbvdm8dv7xevtnw47c1ee"
   },
   "source": [
    "#### 3) Создадим также признаки, отвечающие за количество поездок из зоны 23 ч./46 ч. назад, 22 ч./44 ч. назад итд."
   ]
  },
  {
   "cell_type": "markdown",
   "id": "b79d83e3",
   "metadata": {
    "cellId": "s3pxxae8v2d8ali1y3ijfp"
   },
   "source": [
    "т.е. чтобы для предсказания 16 часов одного дня была информация о количестве поездок в 16 часов прошлого дня"
   ]
  },
  {
   "cell_type": "markdown",
   "id": "1d0a2719",
   "metadata": {
    "cellId": "syj0muzgxs8zvnz619cnq"
   },
   "source": [
    "## Выборка для t+1"
   ]
  },
  {
   "cell_type": "code",
   "execution_count": 734,
   "id": "e3a9ac14",
   "metadata": {
    "cellId": "3tqwb2tjbzdf1swho77b2j"
   },
   "outputs": [
    {
     "name": "stdout",
     "output_type": "stream",
     "text": [
      "CPU times: user 1min 45s, sys: 3.27 s, total: 1min 48s\n",
      "Wall time: 1min 48s\n"
     ]
    }
   ],
   "source": [
    "%%time\n",
    "tim=1\n",
    "new_data=pd.DataFrame()\n",
    "for i in data.columns[:-10]:\n",
    "    q=pd.DataFrame(data[i].values, index=data.index, columns=['trips'])\n",
    "    for j in range(1,7):\n",
    "        q[f'trips_-{j}h']=data[i].shift(j)\n",
    "    for l in range(1,3):\n",
    "        q[f'trips_-{l*24}h']=data[i].shift(l*24)\n",
    "    for e in range(1,3):\n",
    "        q[f'trips_-{e*23}h']=data[i].shift(e*23)\n",
    "    q['zone']=i\n",
    "    q['day_of_week']=q.index.dayofweek\n",
    "    q['hour']=q.index.hour\n",
    "    q['neighbors']=0\n",
    "    for h in [-49,-50,-51,-1,1,49,50,51]:\n",
    "        if str(int(i)+h) in data.columns:\n",
    "            q['neighbors']+=data[f'{(int(i)+h)}']\n",
    "    sar=E[E.id.str.endswith(f'{tim}') & E.id.str.startswith(i)]\n",
    "    sar.index=pd.to_datetime(sar.id.str.replace(r'\\d{4,}_', '').str.replace(r'_\\d\\b', ''), format='%Y-%m-%d_%H')\n",
    "    sar.drop(columns=['id'], inplace=True)\n",
    "    q['sar']=sar\n",
    "    q['cumsum_12h']=q.trips.rolling('12h').sum()\n",
    "    q['cumsum_24h']=q.trips.rolling('24h').sum()\n",
    "    q['y']=data[i].shift(-1)\n",
    "    new_data=pd.concat([new_data, q])\n",
    "new_data=new_data.sort_index()\n",
    "\n",
    "#добавим праздники\n",
    "partys=pd.Series(0, index=new_data.index)\n",
    "for dt in party_days_f:\n",
    "    partys.loc[dt]=1\n",
    "new_data['partys']=partys\n",
    "new_data.dropna(inplace=True)"
   ]
  },
  {
   "cell_type": "code",
   "execution_count": 735,
   "id": "d948a721",
   "metadata": {
    "cellId": "j5j2w8v0ldjp4zr3qonk"
   },
   "outputs": [],
   "source": [
    "data1=new_data.copy()\n",
    "train_data_1=data1.loc['2016-01-02':'2016-04-30']\n",
    "val_data_1=data1.loc['2016-05-01':'2016-05-31']"
   ]
  },
  {
   "cell_type": "markdown",
   "id": "4e925bc8",
   "metadata": {
    "cellId": "byvo1068psnwp8l7fy21b"
   },
   "source": [
    "### В качестве регрессора будем использовать CatBoostRegressor"
   ]
  },
  {
   "cell_type": "markdown",
   "id": "529077ab",
   "metadata": {
    "cellId": "w9gjo9v9rnkxesnkgmnqro"
   },
   "source": [
    "#### Осуществим подбор гиперпараметров по маю 2016 года"
   ]
  },
  {
   "cell_type": "code",
   "execution_count": 736,
   "id": "9f90641b",
   "metadata": {
    "cellId": "dmpbrpn8zvmxj2hyctnsj9"
   },
   "outputs": [],
   "source": [
    "from catboost import CatBoostRegressor"
   ]
  },
  {
   "cell_type": "code",
   "execution_count": 737,
   "id": "670dde63",
   "metadata": {
    "cellId": "x9ydj14epiedd5zb5gps"
   },
   "outputs": [],
   "source": [
    "from sklearn.metrics import mean_squared_error"
   ]
  },
  {
   "cell_type": "code",
   "execution_count": 738,
   "id": "0c24c11a",
   "metadata": {
    "cellId": "d9ffnyh4gldt3x8tij95zh"
   },
   "outputs": [],
   "source": [
    "from hyperopt import fmin, tpe, hp"
   ]
  },
  {
   "cell_type": "code",
   "execution_count": 739,
   "id": "f60bc6f4",
   "metadata": {
    "cellId": "g271f8dkferlbnploqfrbg"
   },
   "outputs": [],
   "source": [
    "#Столбцы с категориальными признаками (зона, день недели, час)\n",
    "cat_features=[11,12,13,18]"
   ]
  },
  {
   "cell_type": "code",
   "execution_count": 807,
   "id": "1f73f500",
   "metadata": {
    "cellId": "4qjnxtk5j6o41ki4e9ebnt"
   },
   "outputs": [],
   "source": [
    "def reg(params):\n",
    "    cat=CatBoostRegressor(**params, silent=True)\n",
    "    cat.fit(train_data_1.drop(columns=['y']), train_data_1.y, cat_features)\n",
    "    preds=cat.predict(val_data_1.drop(columns=['y']))\n",
    "    return mean_squared_error(val_data_1.y, preds)"
   ]
  },
  {
   "cell_type": "code",
   "execution_count": 808,
   "id": "76ca81f8",
   "metadata": {
    "cellId": "u3opxlvocih7kazi052x8d"
   },
   "outputs": [],
   "source": [
    "space={'depth':hp.randint('depth', 4,7),\n",
    "    'learning_rate':hp.uniform('learning_rate', 0.1, 1),\n",
    "    'iterations':hp.randint('iterations', 150,270)\n",
    "}"
   ]
  },
  {
   "cell_type": "code",
   "execution_count": 809,
   "id": "094e913e",
   "metadata": {
    "cellId": "6xjm9agfa0fpw0a0xcdmd"
   },
   "outputs": [
    {
     "name": "stdout",
     "output_type": "stream",
     "text": [
      "100%|██████████| 100/100 [23:39<00:00, 14.19s/trial, best loss: 963.0009046644141]\n"
     ]
    }
   ],
   "source": [
    "best=fmin(\n",
    "    reg,\n",
    "    space=space,\n",
    "    algo=tpe.suggest,\n",
    "    max_evals=100)"
   ]
  },
  {
   "cell_type": "code",
   "execution_count": 810,
   "id": "06417ae0",
   "metadata": {
    "cellId": "bexinl7heioijniphzpeuk"
   },
   "outputs": [
    {
     "name": "stdout",
     "output_type": "stream",
     "text": [
      "{'depth': 6, 'iterations': 265, 'learning_rate': 0.48911481778330385}\n"
     ]
    }
   ],
   "source": [
    "print(best)"
   ]
  },
  {
   "cell_type": "markdown",
   "id": "e3b3fefd",
   "metadata": {
    "cellId": "u3tlet4s0g9bcajkiiwhl"
   },
   "source": [
    "### Посмотри на графике:"
   ]
  },
  {
   "cell_type": "code",
   "execution_count": 811,
   "id": "da8d6aad",
   "metadata": {
    "cellId": "v1dkymd40smngj0fz2nmj"
   },
   "outputs": [],
   "source": [
    "mse_train=pd.Series()\n",
    "mse_test=pd.Series()\n",
    "for i in np.linspace(0.1,1,10):\n",
    "    cat=CatBoostRegressor(learning_rate = i, depth = 6, iterations = 265, silent=True)\n",
    "    cat.fit(train_data_1.drop(columns=['y']), train_data_1.y, cat_features)\n",
    "    preds_train=cat.predict(train_data_1.drop(columns=['y']))\n",
    "    preds_test=cat.predict(val_data_1.drop(columns=['y']))\n",
    "    mse_train[i]=mean_squared_error(train_data_1.y, preds_train)\n",
    "    mse_test[i]=mean_squared_error(val_data_1.y, preds_test)"
   ]
  },
  {
   "cell_type": "code",
   "execution_count": 812,
   "id": "22d7f433",
   "metadata": {
    "cellId": "rm4zv5wo0vc6omgm1q7rb"
   },
   "outputs": [],
   "source": [
    "MSE=pd.concat([mse_train, mse_test], axis=1)\n",
    "MSE.columns=['train', 'test']"
   ]
  },
  {
   "cell_type": "code",
   "execution_count": 813,
   "id": "7fe11994",
   "metadata": {
    "cellId": "v9es7n6i9fru7rrtt3s7o"
   },
   "outputs": [
    {
     "data": {
      "text/plain": [
       "<AxesSubplot:>"
      ]
     },
     "metadata": {},
     "output_type": "display_data"
    },
    {
     "data": {
      "image/png": "[encoded data removed]",
      "text/plain": [
       "<Figure size 1152x576 with 1 Axes>"
      ]
     },
     "metadata": {
      "needs_background": "light"
     },
     "output_type": "display_data"
    }
   ],
   "source": [
    "MSE.plot(legend=True, grid=True, figsize=(16,8), xticks=np.linspace(0.1,1,16))"
   ]
  },
  {
   "cell_type": "code",
   "execution_count": 814,
   "id": "4e0b3cae",
   "metadata": {
    "cellId": "qzi4d32g5oo1qi4yevd3ych"
   },
   "outputs": [],
   "source": [
    "cat1=CatBoostRegressor(**best, silent=True)\n",
    "cat1.fit(train_data_1.drop(columns=['y']), train_data_1.y, cat_features)\n",
    "preds=cat1.predict(val_data_1.drop(columns=['y']))"
   ]
  },
  {
   "cell_type": "code",
   "execution_count": 815,
   "id": "4cc4dc1e",
   "metadata": {
    "cellId": "gmvm794lywlmyvj3k9keo"
   },
   "outputs": [],
   "source": [
    "val_data_1['preds']=preds"
   ]
  },
  {
   "cell_type": "code",
   "execution_count": 816,
   "id": "97617261",
   "metadata": {
    "cellId": "y0q5zk1bna9wgwqi6y6wi"
   },
   "outputs": [
    {
     "data": {
      "text/plain": [
       "<AxesSubplot:>"
      ]
     },
     "metadata": {},
     "output_type": "display_data"
    },
    {
     "data": {
      "image/png": "[encoded data removed]",
      "text/plain": [
       "<Figure size 1152x576 with 1 Axes>"
      ]
     },
     "metadata": {
      "needs_background": "light"
     },
     "output_type": "display_data"
    }
   ],
   "source": [
    "(val_data_1[['y', 'preds']][val_data_1.zone=='1286']).loc['2016-05-01 12:00':'2016-05-09 23:00'].plot(figsize=(16,8))"
   ]
  },
  {
   "cell_type": "markdown",
   "id": "f11b54bc",
   "metadata": {
    "cellId": "9m7dhyuljis2gth0yd0ooy"
   },
   "source": [
    "#### Невероятноя точность предсказаний на час вперед по валидационной выборке"
   ]
  },
  {
   "cell_type": "code",
   "execution_count": 817,
   "id": "9ed5e6ed",
   "metadata": {
    "cellId": "2wmyzu7vwmolac08lj7v9q"
   },
   "outputs": [
    {
     "data": {
      "text/plain": [
       "Index(['sar', 'trips', 'trips_-23h', 'trips_-4h'], dtype='object')"
      ]
     },
     "metadata": {},
     "output_type": "display_data"
    }
   ],
   "source": [
    "train_data_1.columns[np.argsort(cat.feature_importances_)[::-1][:4]]"
   ]
  },
  {
   "cell_type": "markdown",
   "id": "f916f94a",
   "metadata": {
    "cellId": "jkj9ehenzhl4cv832hrmvk"
   },
   "source": [
    "### Самые значимые признаки: Sarima, trips, trips-23h, trips-4h"
   ]
  },
  {
   "cell_type": "markdown",
   "id": "9bd59821",
   "metadata": {
    "cellId": "o2u2z58d347y4zyryavqhk"
   },
   "source": [
    "## Выборка для t+2"
   ]
  },
  {
   "cell_type": "code",
   "execution_count": 759,
   "id": "5b264219",
   "metadata": {
    "cellId": "2pd732ywq3f3fydw8gdpo"
   },
   "outputs": [
    {
     "name": "stdout",
     "output_type": "stream",
     "text": [
      "CPU times: user 1min 45s, sys: 2.08 s, total: 1min 47s\n",
      "Wall time: 1min 47s\n"
     ]
    }
   ],
   "source": [
    "%%time\n",
    "tim=2\n",
    "new_data=pd.DataFrame()\n",
    "for i in data.columns[:-10]:\n",
    "    q=pd.DataFrame(data[i].values, index=data.index, columns=['trips'])\n",
    "    for j in range(1,7):\n",
    "        q[f'trips_-{j}h']=data[i].shift(j)\n",
    "    for l in range(1,3):\n",
    "        q[f'trips_-{l*24}h']=data[i].shift(l*24)\n",
    "    for e in range(1,3):\n",
    "        q[f'trips_-{e*22}h']=data[i].shift(e*22)\n",
    "    q['zone']=i\n",
    "    q['day_of_week']=q.index.dayofweek\n",
    "    q['hour']=q.index.hour\n",
    "    q['neighbors']=0\n",
    "    for h in [-49,-50,-51,-1,1,49,50,51]:\n",
    "        if str(int(i)+h) in data.columns:\n",
    "            q['neighbors']+=data[f'{(int(i)+h)}']\n",
    "    sar=E[E.id.str.endswith(f'{tim}') & E.id.str.startswith(i)]\n",
    "    sar.index=pd.to_datetime(sar.id.str.replace(r'\\d{4,}_', '').str.replace(r'_\\d\\b', ''), format='%Y-%m-%d_%H')\n",
    "    sar.drop(columns=['id'], inplace=True)\n",
    "    q['sar']=sar\n",
    "    q['cumsum_12h']=q.trips.rolling('12h').sum()\n",
    "    q['cumsum_24h']=q.trips.rolling('24h').sum()\n",
    "    q['y']=data[i].shift(-2)\n",
    "    new_data=pd.concat([new_data, q])\n",
    "new_data=new_data.sort_index()\n",
    "\n",
    "#добавим праздники\n",
    "partys=pd.Series(0, index=new_data.index)\n",
    "for dt in party_days_f:\n",
    "    partys.loc[dt]=1\n",
    "new_data['partys']=partys\n",
    "new_data.dropna(inplace=True)"
   ]
  },
  {
   "cell_type": "code",
   "execution_count": 760,
   "id": "24685bb0",
   "metadata": {
    "cellId": "9sjjhtr2ijlela1ghnzjag"
   },
   "outputs": [],
   "source": [
    "data2=new_data.copy()\n",
    "train_data_2=data2.loc['2016-01-02':'2016-04-30']\n",
    "val_data_2=data2.loc['2016-05-01':'2016-05-31']"
   ]
  },
  {
   "cell_type": "markdown",
   "id": "dea30484",
   "metadata": {
    "cellId": "ssgb4xf7ormnbjffdp6so"
   },
   "source": [
    "#### Осуществим подбор гиперпараметров по маю 2016 года"
   ]
  },
  {
   "cell_type": "code",
   "execution_count": 761,
   "id": "d1e04b6f",
   "metadata": {
    "cellId": "yepo87smv9acjqb0i5mahf"
   },
   "outputs": [],
   "source": [
    "def reg(params):\n",
    "    cat=CatBoostRegressor(**params, silent=True)\n",
    "    cat.fit(train_data_2.drop(columns=['y']), train_data_2.y, cat_features)\n",
    "    preds=cat.predict(val_data_2.drop(columns=['y']))\n",
    "    return mean_squared_error(val_data_2.y, preds)"
   ]
  },
  {
   "cell_type": "code",
   "execution_count": 762,
   "id": "5476d869",
   "metadata": {
    "cellId": "6k4z9ta3o8jeu2phw6hcu"
   },
   "outputs": [],
   "source": [
    "space={'depth':hp.randint('depth', 4,7),\n",
    "    'learning_rate':hp.uniform('learning_rate', 0.1, 1),\n",
    "    'iterations':hp.randint('iterations', 150,250)\n",
    "}"
   ]
  },
  {
   "cell_type": "code",
   "execution_count": 763,
   "id": "e02883d6",
   "metadata": {
    "cellId": "z0240gqk7lf465ilc8ebqf"
   },
   "outputs": [
    {
     "name": "stdout",
     "output_type": "stream",
     "text": [
      "100%|██████████| 30/30 [07:53<00:00, 15.80s/trial, best loss: 1550.1160393584557]\n"
     ]
    }
   ],
   "source": [
    "best1=fmin(\n",
    "    reg,\n",
    "    space=space,\n",
    "    algo=tpe.suggest,\n",
    "    max_evals=30)"
   ]
  },
  {
   "cell_type": "code",
   "execution_count": 764,
   "id": "ccfea5cb",
   "metadata": {
    "cellId": "7j8xurj045bmb1wsdfxhmp"
   },
   "outputs": [
    {
     "name": "stdout",
     "output_type": "stream",
     "text": [
      "{'depth': 6, 'iterations': 218, 'learning_rate': 0.3085361935469607}\n"
     ]
    }
   ],
   "source": [
    "print(best1)"
   ]
  },
  {
   "cell_type": "code",
   "execution_count": 765,
   "id": "6b8a08d6",
   "metadata": {
    "cellId": "lp32hbwsszbia5mah3i8rd"
   },
   "outputs": [],
   "source": [
    "cat2=CatBoostRegressor(**best1, silent=True)"
   ]
  },
  {
   "cell_type": "markdown",
   "id": "a983a74b",
   "metadata": {
    "cellId": "52c62kku9v9u2ysexhqh3f"
   },
   "source": [
    "## Выборка для t+3"
   ]
  },
  {
   "cell_type": "code",
   "execution_count": 766,
   "id": "5d1d5014",
   "metadata": {
    "cellId": "nkzo9f3162tfi8frubr4i"
   },
   "outputs": [
    {
     "name": "stderr",
     "output_type": "stream",
     "text": [
      "/usr/local/lib/python3.7/dist-packages/pandas/core/frame.py:4117: SettingWithCopyWarning: \n",
      "A value is trying to be set on a copy of a slice from a DataFrame\n",
      "\n",
      "See the caveats in the documentation: http://pandas.pydata.org/pandas-docs/stable/user_guide/indexing.html#returning-a-view-versus-a-copy\n",
      "  errors=errors,\n"
     ]
    },
    {
     "name": "stdout",
     "output_type": "stream",
     "text": [
      "CPU times: user 1min 46s, sys: 2.33 s, total: 1min 48s\n",
      "Wall time: 1min 48s\n"
     ]
    }
   ],
   "source": [
    "%%time\n",
    "tim=3\n",
    "new_data=pd.DataFrame()\n",
    "for i in data.columns[:-10]:\n",
    "    q=pd.DataFrame(data[i].values, index=data.index, columns=['trips'])\n",
    "    for j in range(1,7):\n",
    "        q[f'trips_-{j}h']=data[i].shift(j)\n",
    "    for l in range(1,3):\n",
    "        q[f'trips_-{l*24}h']=data[i].shift(l*24)\n",
    "    for e in range(1,3):\n",
    "        q[f'trips_-{e*21}h']=data[i].shift(e*21)\n",
    "    q['zone']=i\n",
    "    q['day_of_week']=q.index.dayofweek\n",
    "    q['hour']=q.index.hour\n",
    "    q['neighbors']=0\n",
    "    for h in [-49,-50,-51,-1,1,49,50,51]:\n",
    "        if str(int(i)+h) in data.columns:\n",
    "            q['neighbors']+=data[f'{(int(i)+h)}']\n",
    "    sar=E[E.id.str.endswith(f'{tim}') & E.id.str.startswith(i)]\n",
    "    sar.index=pd.to_datetime(sar.id.str.replace(r'\\d{4,}_', '').str.replace(r'_\\d\\b', ''), format='%Y-%m-%d_%H')\n",
    "    sar.drop(columns=['id'], inplace=True)\n",
    "    q['sar']=sar\n",
    "    q['cumsum_12h']=q.trips.rolling('12h').sum()\n",
    "    q['cumsum_24h']=q.trips.rolling('24h').sum()\n",
    "    q['y']=data[i].shift(-3)\n",
    "    new_data=pd.concat([new_data, q])\n",
    "new_data=new_data.sort_index()\n",
    "\n",
    "#добавим праздники\n",
    "partys=pd.Series(0, index=new_data.index)\n",
    "for dt in party_days_f:\n",
    "    partys.loc[dt]=1\n",
    "new_data['partys']=partys\n",
    "new_data.dropna(inplace=True)"
   ]
  },
  {
   "cell_type": "code",
   "execution_count": 767,
   "id": "48275fb5",
   "metadata": {
    "cellId": "ncmf2czs8aom6zfrq3aheh"
   },
   "outputs": [],
   "source": [
    "data3=new_data.copy()\n",
    "train_data_3=data3.loc['2016-01-02':'2016-04-30']\n",
    "val_data_3=data3.loc['2016-05-01':'2016-05-31']"
   ]
  },
  {
   "cell_type": "markdown",
   "id": "fd4dcd72",
   "metadata": {
    "cellId": "43ab2vxcpmu5edeqvze4hp"
   },
   "source": [
    "#### Осуществим подбор гиперпараметров по маю 2016 года"
   ]
  },
  {
   "cell_type": "code",
   "execution_count": 768,
   "id": "3a54ed07",
   "metadata": {
    "cellId": "gfi9hgwo3loasqvgrf8t6"
   },
   "outputs": [],
   "source": [
    "def reg(params):\n",
    "    cat=CatBoostRegressor(**params, silent=True)\n",
    "    cat.fit(train_data_3.drop(columns=['y']), train_data_3.y, cat_features)\n",
    "    preds=cat.predict(val_data_3.drop(columns=['y']))\n",
    "    return mean_squared_error(val_data_3.y, preds)"
   ]
  },
  {
   "cell_type": "code",
   "execution_count": 769,
   "id": "fa735a4d",
   "metadata": {
    "cellId": "phkm5hbq8cow55z43nu7"
   },
   "outputs": [],
   "source": [
    "space={'depth':hp.randint('depth', 4,7),\n",
    "    'learning_rate':hp.uniform('learning_rate', 0.1, 1),\n",
    "    'iterations':hp.randint('iterations', 150,270)\n",
    "}"
   ]
  },
  {
   "cell_type": "code",
   "execution_count": 770,
   "id": "5063ba7c",
   "metadata": {
    "cellId": "gek2bluwrnkvteaov4g4ae"
   },
   "outputs": [
    {
     "name": "stdout",
     "output_type": "stream",
     "text": [
      "100%|██████████| 100/100 [25:16<00:00, 15.16s/trial, best loss: 1795.1603010420213]\n"
     ]
    }
   ],
   "source": [
    "best2=fmin(\n",
    "    reg,\n",
    "    space=space,\n",
    "    algo=tpe.suggest,\n",
    "    max_evals=100)"
   ]
  },
  {
   "cell_type": "code",
   "execution_count": 771,
   "id": "8a505057",
   "metadata": {
    "cellId": "aleyarb27e1be3srrivz5"
   },
   "outputs": [
    {
     "name": "stdout",
     "output_type": "stream",
     "text": [
      "{'depth': 6, 'iterations': 255, 'learning_rate': 0.3666674138400161}\n"
     ]
    }
   ],
   "source": [
    "print(best2)"
   ]
  },
  {
   "cell_type": "code",
   "execution_count": 772,
   "id": "8eeb3723",
   "metadata": {
    "cellId": "us12l9fim5qkvbysxsevcj"
   },
   "outputs": [],
   "source": [
    "cat3=CatBoostRegressor(**best2, silent=True)"
   ]
  },
  {
   "cell_type": "markdown",
   "id": "52d36ddb",
   "metadata": {
    "cellId": "3oo0e421jw7ryv8j7z4n5"
   },
   "source": [
    "## Выборка для t+4"
   ]
  },
  {
   "cell_type": "code",
   "execution_count": 773,
   "id": "f7cd6da1",
   "metadata": {
    "cellId": "xxluw5zuo0guqodna9h6t"
   },
   "outputs": [
    {
     "name": "stderr",
     "output_type": "stream",
     "text": [
      "/usr/local/lib/python3.7/dist-packages/pandas/core/frame.py:4117: SettingWithCopyWarning: \n",
      "A value is trying to be set on a copy of a slice from a DataFrame\n",
      "\n",
      "See the caveats in the documentation: http://pandas.pydata.org/pandas-docs/stable/user_guide/indexing.html#returning-a-view-versus-a-copy\n",
      "  errors=errors,\n"
     ]
    },
    {
     "name": "stdout",
     "output_type": "stream",
     "text": [
      "CPU times: user 1min 45s, sys: 3.26 s, total: 1min 48s\n",
      "Wall time: 1min 48s\n"
     ]
    }
   ],
   "source": [
    "%%time\n",
    "tim=4\n",
    "new_data=pd.DataFrame()\n",
    "for i in data.columns[:-10]:\n",
    "    q=pd.DataFrame(data[i].values, index=data.index, columns=['trips'])\n",
    "    for j in range(1,7):\n",
    "        q[f'trips_-{j}h']=data[i].shift(j)\n",
    "    for l in range(1,3):\n",
    "        q[f'trips_-{l*24}h']=data[i].shift(l*24)\n",
    "    for e in range(1,3):\n",
    "        q[f'trips_-{e*20}h']=data[i].shift(e*20)\n",
    "    q['zone']=i\n",
    "    q['day_of_week']=q.index.dayofweek\n",
    "    q['hour']=q.index.hour\n",
    "    q['neighbors']=0\n",
    "    for h in [-49,-50,-51,-1,1,49,50,51]:\n",
    "        if str(int(i)+h) in data.columns:\n",
    "            q['neighbors']+=data[f'{(int(i)+h)}']\n",
    "    sar=E[E.id.str.endswith(f'{tim}') & E.id.str.startswith(i)]\n",
    "    sar.index=pd.to_datetime(sar.id.str.replace(r'\\d{4,}_', '').str.replace(r'_\\d\\b', ''), format='%Y-%m-%d_%H')\n",
    "    sar.drop(columns=['id'], inplace=True)\n",
    "    q['sar']=sar\n",
    "    q['cumsum_12h']=q.trips.rolling('12h').sum()\n",
    "    q['cumsum_24h']=q.trips.rolling('24h').sum()\n",
    "    q['y']=data[i].shift(-4)\n",
    "    new_data=pd.concat([new_data, q])\n",
    "new_data=new_data.sort_index()\n",
    "\n",
    "#добавим праздники\n",
    "partys=pd.Series(0, index=new_data.index)\n",
    "for dt in party_days_f:\n",
    "    partys.loc[dt]=1\n",
    "new_data['partys']=partys\n",
    "new_data.dropna(inplace=True)"
   ]
  },
  {
   "cell_type": "code",
   "execution_count": 774,
   "id": "5c911a3b",
   "metadata": {
    "cellId": "1fqv2sxib5r6g1bpxj3met"
   },
   "outputs": [],
   "source": [
    "data4=new_data.copy()\n",
    "train_data_4=data4.loc['2016-01-02':'2016-04-30']\n",
    "val_data_4=data4.loc['2016-05-01':'2016-05-31']"
   ]
  },
  {
   "cell_type": "markdown",
   "id": "3026ea67",
   "metadata": {
    "cellId": "nxf6onlrlbgqylvgzmnbt"
   },
   "source": [
    "#### Осуществим подбор гиперпараметров по маю 2016 года"
   ]
  },
  {
   "cell_type": "code",
   "execution_count": 775,
   "id": "dd129867",
   "metadata": {
    "cellId": "j6ee3m1gsuqjvam41up6i"
   },
   "outputs": [],
   "source": [
    "def reg(params):\n",
    "    cat=CatBoostRegressor(**params, silent=True)\n",
    "    cat.fit(train_data_4.drop(columns=['y']), train_data_4.y, cat_features)\n",
    "    preds=cat.predict(val_data_4.drop(columns=['y']))\n",
    "    return mean_squared_error(val_data_4.y, preds)"
   ]
  },
  {
   "cell_type": "code",
   "execution_count": 776,
   "id": "c0baabee",
   "metadata": {
    "cellId": "iq1ck5frcsbgscy3x68dlp"
   },
   "outputs": [],
   "source": [
    "space={'depth':hp.randint('depth', 4,7),\n",
    "    'learning_rate':hp.uniform('learning_rate', 0.1, 1),\n",
    "    'iterations':hp.randint('iterations', 150,270)\n",
    "}"
   ]
  },
  {
   "cell_type": "code",
   "execution_count": 777,
   "id": "b74e1835",
   "metadata": {
    "cellId": "5z6qpq9cwkurnfgyu3of2"
   },
   "outputs": [
    {
     "name": "stdout",
     "output_type": "stream",
     "text": [
      "100%|██████████| 100/100 [25:47<00:00, 15.48s/trial, best loss: 1948.1109073856392]\n"
     ]
    }
   ],
   "source": [
    "best3=fmin(\n",
    "    reg,\n",
    "    space=space,\n",
    "    algo=tpe.suggest,\n",
    "    max_evals=100)"
   ]
  },
  {
   "cell_type": "code",
   "execution_count": 778,
   "id": "02179ab5",
   "metadata": {
    "cellId": "4nwme7vnuya64fm6b4iykg"
   },
   "outputs": [
    {
     "name": "stdout",
     "output_type": "stream",
     "text": [
      "{'depth': 6, 'iterations': 253, 'learning_rate': 0.466233520083901}\n"
     ]
    }
   ],
   "source": [
    "print(best3)"
   ]
  },
  {
   "cell_type": "code",
   "execution_count": 779,
   "id": "d57d3cf6",
   "metadata": {
    "cellId": "6gzhu5r8zgl7d6bxc726v6"
   },
   "outputs": [],
   "source": [
    "cat4=CatBoostRegressor(**best3, silent=True)"
   ]
  },
  {
   "cell_type": "markdown",
   "id": "89c3ad5a",
   "metadata": {
    "cellId": "ncn9bx6roiiufwdz3eo1fb"
   },
   "source": [
    "## Выборка для t+5"
   ]
  },
  {
   "cell_type": "code",
   "execution_count": 780,
   "id": "8ef7275f",
   "metadata": {
    "cellId": "2paxx0v631km7q2nb1z64q"
   },
   "outputs": [
    {
     "name": "stderr",
     "output_type": "stream",
     "text": [
      "/usr/local/lib/python3.7/dist-packages/pandas/core/frame.py:4117: SettingWithCopyWarning: \n",
      "A value is trying to be set on a copy of a slice from a DataFrame\n",
      "\n",
      "See the caveats in the documentation: http://pandas.pydata.org/pandas-docs/stable/user_guide/indexing.html#returning-a-view-versus-a-copy\n",
      "  errors=errors,\n"
     ]
    },
    {
     "name": "stdout",
     "output_type": "stream",
     "text": [
      "CPU times: user 1min 45s, sys: 3.28 s, total: 1min 49s\n",
      "Wall time: 1min 48s\n"
     ]
    }
   ],
   "source": [
    "%%time\n",
    "tim=5\n",
    "new_data=pd.DataFrame()\n",
    "for i in data.columns[:-10]:\n",
    "    q=pd.DataFrame(data[i].values, index=data.index, columns=['trips'])\n",
    "    for j in range(1,7):\n",
    "        q[f'trips_-{j}h']=data[i].shift(j)\n",
    "    for l in range(1,3):\n",
    "        q[f'trips_-{l*24}h']=data[i].shift(l*24)\n",
    "    for e in range(1,3):\n",
    "        q[f'trips_-{e*19}h']=data[i].shift(e*19)\n",
    "    q['zone']=i\n",
    "    q['day_of_week']=q.index.dayofweek\n",
    "    q['hour']=q.index.hour\n",
    "    q['neighbors']=0\n",
    "    for h in [-49,-50,-51,-1,1,49,50,51]:\n",
    "        if str(int(i)+h) in data.columns:\n",
    "            q['neighbors']+=data[f'{(int(i)+h)}']\n",
    "    sar=E[E.id.str.endswith(f'{tim}') & E.id.str.startswith(i)]\n",
    "    sar.index=pd.to_datetime(sar.id.str.replace(r'\\d{4,}_', '').str.replace(r'_\\d\\b', ''), format='%Y-%m-%d_%H')\n",
    "    sar.drop(columns=['id'], inplace=True)\n",
    "    q['sar']=sar\n",
    "    q['cumsum_12h']=q.trips.rolling('12h').sum()\n",
    "    q['cumsum_24h']=q.trips.rolling('24h').sum()\n",
    "    q['y']=data[i].shift(-5)\n",
    "    new_data=pd.concat([new_data, q])\n",
    "new_data=new_data.sort_index()\n",
    "\n",
    "#добавим праздники\n",
    "partys=pd.Series(0, index=new_data.index)\n",
    "for dt in party_days_f:\n",
    "    partys.loc[dt]=1\n",
    "new_data['partys']=partys\n",
    "new_data.dropna(inplace=True)"
   ]
  },
  {
   "cell_type": "code",
   "execution_count": 781,
   "id": "b7eb5072",
   "metadata": {
    "cellId": "xlyfzgrffyejs9t7khalb"
   },
   "outputs": [],
   "source": [
    "data5=new_data.copy()\n",
    "train_data_5=data5.loc['2016-01-02':'2016-04-30']\n",
    "val_data_5=data5.loc['2016-05-01':'2016-05-31']"
   ]
  },
  {
   "cell_type": "markdown",
   "id": "5fcb52f0",
   "metadata": {
    "cellId": "ml75lh3mmefymgwoevtn38"
   },
   "source": [
    "#### Осуществим подбор гиперпараметров по маю 2016 года"
   ]
  },
  {
   "cell_type": "code",
   "execution_count": 782,
   "id": "e0d22220",
   "metadata": {
    "cellId": "o6zvctck397cub0gyqk14"
   },
   "outputs": [],
   "source": [
    "def reg(params):\n",
    "    cat=CatBoostRegressor(**params, silent=True)\n",
    "    cat.fit(train_data_5.drop(columns=['y']), train_data_5.y, cat_features)\n",
    "    preds=cat.predict(val_data_5.drop(columns=['y']))\n",
    "    return mean_squared_error(val_data_5.y, preds)"
   ]
  },
  {
   "cell_type": "code",
   "execution_count": 783,
   "id": "f19d50a6",
   "metadata": {
    "cellId": "hsjxhuixlmhvrio8wso20o"
   },
   "outputs": [],
   "source": [
    "space={'depth':hp.randint('depth', 4,7),\n",
    "    'learning_rate':hp.uniform('learning_rate', 0.1, 1),\n",
    "    'iterations':hp.randint('iterations', 150,270)\n",
    "}"
   ]
  },
  {
   "cell_type": "code",
   "execution_count": 784,
   "id": "a09271cc",
   "metadata": {
    "cellId": "jhgvknw7l5xtt8mrosf0q"
   },
   "outputs": [
    {
     "name": "stdout",
     "output_type": "stream",
     "text": [
      "100%|██████████| 100/100 [25:53<00:00, 15.54s/trial, best loss: 2057.032063660499]\n"
     ]
    }
   ],
   "source": [
    "best4=fmin(\n",
    "    reg,\n",
    "    space=space,\n",
    "    algo=tpe.suggest,\n",
    "    max_evals=100)"
   ]
  },
  {
   "cell_type": "code",
   "execution_count": 785,
   "id": "31afe5db",
   "metadata": {
    "cellId": "bf07m21rd9peqiq6h2k"
   },
   "outputs": [
    {
     "name": "stdout",
     "output_type": "stream",
     "text": [
      "{'depth': 6, 'iterations': 266, 'learning_rate': 0.5726131556080045}\n"
     ]
    }
   ],
   "source": [
    "print(best4)"
   ]
  },
  {
   "cell_type": "code",
   "execution_count": 786,
   "id": "83177401",
   "metadata": {
    "cellId": "gd9mfndokityjcadaigfb"
   },
   "outputs": [],
   "source": [
    "cat5=CatBoostRegressor(**best4, silent=True)"
   ]
  },
  {
   "cell_type": "markdown",
   "id": "1d74d5dd",
   "metadata": {
    "cellId": "ysny8fcpx2kc8srb2elor7"
   },
   "source": [
    "## Выборка для t+6"
   ]
  },
  {
   "cell_type": "code",
   "execution_count": 787,
   "id": "88e3e7d7",
   "metadata": {
    "cellId": "qe8l7nckm7b1jlrgifplci"
   },
   "outputs": [
    {
     "name": "stderr",
     "output_type": "stream",
     "text": [
      "/usr/local/lib/python3.7/dist-packages/pandas/core/frame.py:4117: SettingWithCopyWarning: \n",
      "A value is trying to be set on a copy of a slice from a DataFrame\n",
      "\n",
      "See the caveats in the documentation: http://pandas.pydata.org/pandas-docs/stable/user_guide/indexing.html#returning-a-view-versus-a-copy\n",
      "  errors=errors,\n"
     ]
    },
    {
     "name": "stdout",
     "output_type": "stream",
     "text": [
      "CPU times: user 1min 46s, sys: 3.18 s, total: 1min 49s\n",
      "Wall time: 1min 49s\n"
     ]
    }
   ],
   "source": [
    "%%time\n",
    "tim=6\n",
    "new_data=pd.DataFrame()\n",
    "for i in data.columns[:-10]:\n",
    "    q=pd.DataFrame(data[i].values, index=data.index, columns=['trips'])\n",
    "    for j in range(1,7):\n",
    "        q[f'trips_-{j}h']=data[i].shift(j)\n",
    "    for l in range(1,3):\n",
    "        q[f'trips_-{l*24}h']=data[i].shift(l*24)\n",
    "    for e in range(1,3):\n",
    "        q[f'trips_-{e*18}h']=data[i].shift(e*18)\n",
    "    q['zone']=i\n",
    "    q['day_of_week']=q.index.dayofweek\n",
    "    q['hour']=q.index.hour\n",
    "    q['neighbors']=0\n",
    "    for h in [-49,-50,-51,-1,1,49,50,51]:\n",
    "        if str(int(i)+h) in data.columns:\n",
    "            q['neighbors']+=data[f'{(int(i)+h)}']\n",
    "    sar=E[E.id.str.endswith(f'{tim}') & E.id.str.startswith(i)]\n",
    "    sar.index=pd.to_datetime(sar.id.str.replace(r'\\d{4,}_', '').str.replace(r'_\\d\\b', ''), format='%Y-%m-%d_%H')\n",
    "    sar.drop(columns=['id'], inplace=True)\n",
    "    q['sar']=sar\n",
    "    q['cumsum_12h']=q.trips.rolling('12h').sum()\n",
    "    q['cumsum_24h']=q.trips.rolling('24h').sum()\n",
    "    q['y']=data[i].shift(-6)\n",
    "    new_data=pd.concat([new_data, q])\n",
    "new_data=new_data.sort_index()\n",
    "\n",
    "#добавим праздники\n",
    "partys=pd.Series(0, index=new_data.index)\n",
    "for dt in party_days_f:\n",
    "    partys.loc[dt]=1\n",
    "new_data['partys']=partys\n",
    "new_data.dropna(inplace=True)"
   ]
  },
  {
   "cell_type": "code",
   "execution_count": 788,
   "id": "f01ecf46",
   "metadata": {
    "cellId": "thgnpjc42rqf58hvsert7"
   },
   "outputs": [],
   "source": [
    "data6=new_data.copy()\n",
    "train_data_6=data6.loc['2016-01-02':'2016-04-30']\n",
    "val_data_6=data6.loc['2016-05-01':'2016-05-31']"
   ]
  },
  {
   "cell_type": "markdown",
   "id": "d69894e4",
   "metadata": {
    "cellId": "9gsgojop0z45yqugci0tn"
   },
   "source": [
    "#### Осуществим подбор гиперпараметров по маю 2016 года"
   ]
  },
  {
   "cell_type": "code",
   "execution_count": 789,
   "id": "4b1b62ef",
   "metadata": {
    "cellId": "0sf689908kiq8x4470me5k"
   },
   "outputs": [],
   "source": [
    "def reg(params):\n",
    "    cat=CatBoostRegressor(**params, silent=True)\n",
    "    cat.fit(train_data_6.drop(columns=['y']), train_data_6.y, cat_features)\n",
    "    preds=cat.predict(val_data_6.drop(columns=['y']))\n",
    "    return mean_squared_error(val_data_6.y, preds)"
   ]
  },
  {
   "cell_type": "code",
   "execution_count": 790,
   "id": "8ee4ad48",
   "metadata": {
    "cellId": "foyao9n7wx46korchh5ox"
   },
   "outputs": [],
   "source": [
    "space={'depth':hp.randint('depth', 4,7),\n",
    "    'learning_rate':hp.uniform('learning_rate', 0.1, 1),\n",
    "    'iterations':hp.randint('iterations', 150,270)\n",
    "}"
   ]
  },
  {
   "cell_type": "code",
   "execution_count": 791,
   "id": "b9ccdf6f",
   "metadata": {
    "cellId": "4rn9rkl8d76t91wf34vkd"
   },
   "outputs": [
    {
     "name": "stdout",
     "output_type": "stream",
     "text": [
      "100%|██████████| 100/100 [25:21<00:00, 15.22s/trial, best loss: 2202.2491445409314]\n"
     ]
    }
   ],
   "source": [
    "best5=fmin(\n",
    "    reg,\n",
    "    space=space,\n",
    "    algo=tpe.suggest,\n",
    "    max_evals=100)"
   ]
  },
  {
   "cell_type": "code",
   "execution_count": 792,
   "id": "313f0cdc",
   "metadata": {
    "cellId": "c01psfxp7q81mnofew2usp"
   },
   "outputs": [
    {
     "name": "stdout",
     "output_type": "stream",
     "text": [
      "{'depth': 6, 'iterations': 236, 'learning_rate': 0.36395329039359936}\n"
     ]
    }
   ],
   "source": [
    "print(best5)"
   ]
  },
  {
   "cell_type": "code",
   "execution_count": 793,
   "id": "3b99a44c",
   "metadata": {
    "cellId": "byzb55lh8hp3j2oajwkulj"
   },
   "outputs": [],
   "source": [
    "cat6=CatBoostRegressor(**best5, silent=True)"
   ]
  },
  {
   "cell_type": "markdown",
   "id": "b0fc54df",
   "metadata": {
    "cellId": "6ndhl7yd1j92x3kgpagumv"
   },
   "source": [
    "## Построение прогнозов на май и проверка качества по Q"
   ]
  },
  {
   "cell_type": "markdown",
   "id": "333e7ed5",
   "metadata": {
    "cellId": "6fime8wse1mfanzlqxhbsi"
   },
   "source": [
    "##### Искоючим из обучения моделей первые сутки"
   ]
  },
  {
   "cell_type": "code",
   "execution_count": 794,
   "id": "8da9a20e",
   "metadata": {
    "cellId": "zrxxjlolferal95fcxiyxp"
   },
   "outputs": [],
   "source": [
    "data1=data1.loc['2016-01-02':]\n",
    "data2=data2.loc['2016-01-02':]\n",
    "data3=data3.loc['2016-01-02':]\n",
    "data4=data4.loc['2016-01-02':]\n",
    "data5=data5.loc['2016-01-02':]\n",
    "data6=data6.loc['2016-01-02':]"
   ]
  },
  {
   "cell_type": "code",
   "execution_count": 818,
   "id": "04f97b4f",
   "metadata": {
    "cellId": "ao5iq2dt99bcbdae99l2u6"
   },
   "outputs": [
    {
     "name": "stdout",
     "output_type": "stream",
     "text": [
      "CPU times: user 7min 25s, sys: 36.8 s, total: 8min 2s\n",
      "Wall time: 2min 15s\n"
     ]
    },
    {
     "data": {
      "text/plain": [
       "<catboost.core.CatBoostRegressor at 0x7fa1b7b9b050>"
      ]
     },
     "metadata": {},
     "output_type": "display_data"
    }
   ],
   "source": [
    "%%time\n",
    "cat1.fit(data1.loc[:'2016-04-30'].drop(columns=['y']), data1.loc[:'2016-04-30'].y, cat_features)\n",
    "cat2.fit(data2.loc[:'2016-04-30'].drop(columns=['y']), data2.loc[:'2016-04-30'].y, cat_features)\n",
    "cat3.fit(data3.loc[:'2016-04-30'].drop(columns=['y']), data3.loc[:'2016-04-30'].y, cat_features)\n",
    "cat4.fit(data4.loc[:'2016-04-30'].drop(columns=['y']), data4.loc[:'2016-04-30'].y, cat_features)\n",
    "cat5.fit(data5.loc[:'2016-04-30'].drop(columns=['y']), data5.loc[:'2016-04-30'].y, cat_features)\n",
    "cat6.fit(data6.loc[:'2016-04-30'].drop(columns=['y']), data6.loc[:'2016-04-30'].y, cat_features)"
   ]
  },
  {
   "cell_type": "code",
   "execution_count": 819,
   "id": "c11f5e58",
   "metadata": {
    "cellId": "1nokf422fgcnzm4mkq896"
   },
   "outputs": [],
   "source": [
    "tvm=pd.read_csv('true_vals_may.csv', index_col='id').iloc[:,0]"
   ]
  },
  {
   "cell_type": "code",
   "execution_count": 820,
   "id": "75d58217",
   "metadata": {
    "cellId": "j6oqtv2gsepyzgm4ohd9h"
   },
   "outputs": [],
   "source": [
    "ans_may=pd.Series(0.0, index=tvm.index)"
   ]
  },
  {
   "cell_type": "code",
   "execution_count": 821,
   "id": "ef97e3ce",
   "metadata": {
    "cellId": "ue7nmv7n9eq62n3dvnzglb"
   },
   "outputs": [
    {
     "name": "stdout",
     "output_type": "stream",
     "text": [
      "CPU times: user 2min 3s, sys: 200 ms, total: 2min 3s\n",
      "Wall time: 2min 4s\n"
     ]
    }
   ],
   "source": [
    "%%time\n",
    "for r in data.columns[:-10]:\n",
    "    ans_may[(ans_may.index.str.startswith(f'{r}')) &\\\n",
    "             (ans_may.index.str.endswith('1'))]=cat1.predict(\n",
    "        data1[data1.zone==f'{r}'].loc['2016-04-30 23:00':'2016-05-31 17:00'].drop(columns=['y']))\n",
    "    \n",
    "    ans_may[(ans_may.index.str.startswith(f'{r}')) &\\\n",
    "             (ans_may.index.str.endswith('2'))]=cat2.predict(\n",
    "        data2[data2.zone==f'{r}'].loc['2016-04-30 23:00':'2016-05-31 17:00'].drop(columns=['y']))\n",
    "    \n",
    "    ans_may[(ans_may.index.str.startswith(f'{r}')) &\\\n",
    "             (ans_may.index.str.endswith('3'))]=cat3.predict(\n",
    "        data3[data3.zone==f'{r}'].loc['2016-04-30 23:00':'2016-05-31 17:00'].drop(columns=['y']))\n",
    "    \n",
    "    ans_may[(ans_may.index.str.startswith(f'{r}')) &\\\n",
    "             (ans_may.index.str.endswith('4'))]=cat4.predict(\n",
    "        data4[data4.zone==f'{r}'].loc['2016-04-30 23:00':'2016-05-31 17:00'].drop(columns=['y']))\n",
    "    \n",
    "    ans_may[(ans_may.index.str.startswith(f'{r}')) &\\\n",
    "             (ans_may.index.str.endswith('5'))]=cat5.predict(\n",
    "        data5[data5.zone==f'{r}'].loc['2016-04-30 23:00':'2016-05-31 17:00'].drop(columns=['y']))\n",
    "    \n",
    "    ans_may[(ans_may.index.str.startswith(f'{r}')) &\\\n",
    "             (ans_may.index.str.endswith('6'))]=cat6.predict(\n",
    "        data6[data6.zone==f'{r}'].loc['2016-04-30 23:00':'2016-05-31 17:00'].drop(columns=['y']))"
   ]
  },
  {
   "cell_type": "code",
   "execution_count": 822,
   "id": "54bd167e",
   "metadata": {
    "cellId": "8dhn71nhg5ck83855kwmn"
   },
   "outputs": [
    {
     "name": "stdout",
     "output_type": "stream",
     "text": [
      "20.694825592491345\n"
     ]
    }
   ],
   "source": [
    "Q=1/(102*739*6)*(np.abs(ans_may-tvm).sum())\n",
    "print(Q)"
   ]
  },
  {
   "cell_type": "markdown",
   "id": "b57b60b0",
   "metadata": {
    "cellId": "o4l9ody02r8uc0fmqswxf"
   },
   "source": [
    "#### Как мы видим качество прогнозов улучшилось на 0.82 пункта! Переходим к июню"
   ]
  },
  {
   "cell_type": "markdown",
   "id": "3629498f",
   "metadata": {
    "cellId": "9xxkiqbl97kmy48jyuk"
   },
   "source": [
    "## Моделирование июня"
   ]
  },
  {
   "cell_type": "markdown",
   "id": "7555f980",
   "metadata": {
    "cellId": "7qave6x0v3t9mwtpva2jo8"
   },
   "source": [
    "#### Переобучим модели на данных, которые включают май"
   ]
  },
  {
   "cell_type": "code",
   "execution_count": 823,
   "id": "b6560e78",
   "metadata": {
    "cellId": "7xu0dbw4ubqfpy5bnr72qt"
   },
   "outputs": [
    {
     "name": "stdout",
     "output_type": "stream",
     "text": [
      "CPU times: user 9min 18s, sys: 41.9 s, total: 10min\n",
      "Wall time: 2min 38s\n"
     ]
    },
    {
     "data": {
      "text/plain": [
       "<catboost.core.CatBoostRegressor at 0x7fa1b7b9b050>"
      ]
     },
     "metadata": {},
     "output_type": "display_data"
    }
   ],
   "source": [
    "%%time\n",
    "cat1.fit(data1.loc[:'2016-05-31 22:00'].drop(columns=['y']), data1.loc[:'2016-05-31 22:00'].y, cat_features)\n",
    "cat2.fit(data2.loc[:'2016-05-31 22:00'].drop(columns=['y']), data2.loc[:'2016-05-31 22:00'].y, cat_features)\n",
    "cat3.fit(data3.loc[:'2016-05-31 22:00'].drop(columns=['y']), data3.loc[:'2016-05-31 22:00'].y, cat_features)\n",
    "cat4.fit(data4.loc[:'2016-05-31 22:00'].drop(columns=['y']), data4.loc[:'2016-05-31 22:00'].y, cat_features)\n",
    "cat5.fit(data5.loc[:'2016-05-31 22:00'].drop(columns=['y']), data5.loc[:'2016-05-31 22:00'].y, cat_features)\n",
    "cat6.fit(data6.loc[:'2016-05-31 22:00'].drop(columns=['y']), data6.loc[:'2016-05-31 22:00'].y, cat_features)"
   ]
  },
  {
   "cell_type": "code",
   "execution_count": 824,
   "id": "07c49e50",
   "metadata": {
    "cellId": "10g2fuw4xd8kbpcsvmnfec"
   },
   "outputs": [],
   "source": [
    "tvj=pd.read_csv('true_vals_june.csv', index_col='id').iloc[:,0]"
   ]
  },
  {
   "cell_type": "code",
   "execution_count": 825,
   "id": "982c19c0",
   "metadata": {
    "cellId": "rbymvs4qchl8n7jmn65bpv"
   },
   "outputs": [],
   "source": [
    "ans_june=pd.Series(0.0, index=tvj.index)"
   ]
  },
  {
   "cell_type": "code",
   "execution_count": 826,
   "id": "189ad25b",
   "metadata": {
    "cellId": "nq92xq3owdajiezbmmre4"
   },
   "outputs": [
    {
     "name": "stdout",
     "output_type": "stream",
     "text": [
      "CPU times: user 2min, sys: 196 ms, total: 2min 1s\n",
      "Wall time: 2min\n"
     ]
    }
   ],
   "source": [
    "%%time\n",
    "for r in data.columns[:-10]:\n",
    "    ans_june[(ans_june.index.str.startswith(f'{r}')) &\\\n",
    "             (ans_june.index.str.endswith('1'))]=cat1.predict(\n",
    "        data1[data1.zone==f'{r}'].loc['2016-05-31 23:00':'2016-06-30'].drop(columns=['y']))\n",
    "    \n",
    "    ans_june[(ans_june.index.str.startswith(f'{r}')) &\\\n",
    "             (ans_june.index.str.endswith('2'))]=cat2.predict(\n",
    "        data2[data2.zone==f'{r}'].loc['2016-05-31 23:00':'2016-06-30'].drop(columns=['y']))\n",
    "    \n",
    "    ans_june[(ans_june.index.str.startswith(f'{r}')) &\\\n",
    "             (ans_june.index.str.endswith('3'))]=cat3.predict(\n",
    "        data3[data3.zone==f'{r}'].loc['2016-05-31 23:00':'2016-06-30'].drop(columns=['y']))\n",
    "    \n",
    "    ans_june[(ans_june.index.str.startswith(f'{r}')) &\\\n",
    "             (ans_june.index.str.endswith('4'))]=cat4.predict(\n",
    "        data4[data4.zone==f'{r}'].loc['2016-05-31 23:00':'2016-06-30'].drop(columns=['y']))\n",
    "    \n",
    "    ans_june[(ans_june.index.str.startswith(f'{r}')) &\\\n",
    "             (ans_june.index.str.endswith('5'))]=cat5.predict(\n",
    "        data5[data5.zone==f'{r}'].loc['2016-05-31 23:00':'2016-06-30'].drop(columns=['y']))\n",
    "    \n",
    "    ans_june[(ans_june.index.str.startswith(f'{r}')) &\\\n",
    "             (ans_june.index.str.endswith('6'))]=cat6.predict(\n",
    "        data6[data6.zone==f'{r}'].loc['2016-05-31 23:00':'2016-06-30'].drop(columns=['y']))"
   ]
  },
  {
   "cell_type": "code",
   "execution_count": 827,
   "id": "230b6578",
   "metadata": {
    "cellId": "1ohm799qxi9q3ab6bt9y4"
   },
   "outputs": [
    {
     "name": "stdout",
     "output_type": "stream",
     "text": [
      "19.849122354112794\n"
     ]
    }
   ],
   "source": [
    "Q=1/(102*715*6)*(np.abs(tvj-ans_june).sum())\n",
    "print(Q)"
   ]
  },
  {
   "cell_type": "code",
   "execution_count": 828,
   "id": "3ae88366",
   "metadata": {
    "cellId": "relf78uqk947do4uctv7n"
   },
   "outputs": [],
   "source": [
    "ans_june.name='y'"
   ]
  },
  {
   "cell_type": "code",
   "execution_count": 829,
   "id": "f21388ea",
   "metadata": {
    "cellId": "0xedum5w95upi5owrktybpa"
   },
   "outputs": [],
   "source": [
    "ans_june.to_csv('sample_solution_june.csv', index_label='id', header=True)"
   ]
  },
  {
   "cell_type": "markdown",
   "id": "eec69575",
   "metadata": {
    "cellId": "oao84kbqylbfo6aovatusl"
   },
   "source": [
    "### Итого: увеличили качество дополнительно на 0.7 пункта"
   ]
  },
  {
   "attachments": {
    "51da3bc4-422e-4435-9e2d-5834595c9dc1.png": {
     "image/png": "[encoded data removed]"
    }
   },
   "cell_type": "markdown",
   "id": "96f8e494",
   "metadata": {
    "cellId": "71gptkxi1l9f0vzuxmgw18"
   },
   "source": [
    "![image.png](attachment:51da3bc4-422e-4435-9e2d-5834595c9dc1.png)"
   ]
  },
  {
   "cell_type": "code",
   "execution_count": null,
   "id": "a4db60d3",
   "metadata": {},
   "outputs": [],
   "source": []
  }
 ],
 "metadata": {
  "kernelspec": {
   "display_name": "Python 3",
   "language": "python",
   "name": "python3"
  },
  "language_info": {
   "codemirror_mode": {
    "name": "ipython",
    "version": 3
   },
   "file_extension": ".py",
   "mimetype": "text/x-python",
   "name": "python",
   "nbconvert_exporter": "python",
   "pygments_lexer": "ipython3",
   "version": "3.8.8"
  },
  "notebookId": "243d2655-0a76-426f-a198-0d560fa90d53"
 },
 "nbformat": 4,
 "nbformat_minor": 5
}
